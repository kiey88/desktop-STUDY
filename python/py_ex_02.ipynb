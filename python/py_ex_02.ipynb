{
 "cells": [
  {
   "cell_type": "raw",
   "id": "26923eeb",
   "metadata": {},
   "source": [
    "[참조] 자료구조 - 문자열\n",
    "\n",
    "word = \"python\"\n",
    "--------------------------------------------\n",
    "문자열 |  p  |  y  |  t  |  h  |  o  |  n  |\n",
    "--------------------------------------------\n",
    "       | [0] | [1] | [2] | [3] | [4] | [5] |\n",
    " 위치  -------------------------------------\n",
    "       |[-6] |[-5] |[-4] |[-3] |[-2] |[-1] |\n",
    "--------------------------------------------"
   ]
  },
  {
   "cell_type": "raw",
   "id": "eda68721",
   "metadata": {},
   "source": [
    "[예제 1]\n",
    "word = \"python\"\n",
    "print(word)       #출력결과 : python\n",
    "print(word[3])    #출력결과 : h\n",
    "\n",
    "word[1]    word[-3]    word[2:4]2~3    word[:2] 0~1\n",
    "word[4:]4부터 끝까지   word[-2:]마지막 두 문자   word[:-3]처음부터 끝에서 세 번째 문자 이전까지출력    len(word)"
   ]
  },
  {
   "cell_type": "code",
   "execution_count": 6,
   "id": "f8369d41",
   "metadata": {},
   "outputs": [
    {
     "name": "stdout",
     "output_type": "stream",
     "text": [
      "y\n"
     ]
    }
   ],
   "source": [
    "#[예제 연습]\n",
    "word = \"python\"\n",
    "print(word[1])\n"
   ]
  },
  {
   "cell_type": "code",
   "execution_count": 7,
   "id": "3a72754e",
   "metadata": {},
   "outputs": [
    {
     "name": "stdout",
     "output_type": "stream",
     "text": [
      "h\n"
     ]
    }
   ],
   "source": [
    "word = \"python\"\n",
    "print(word[-3])\n"
   ]
  },
  {
   "cell_type": "code",
   "execution_count": 8,
   "id": "717af7de",
   "metadata": {},
   "outputs": [
    {
     "name": "stdout",
     "output_type": "stream",
     "text": [
      "th\n"
     ]
    }
   ],
   "source": [
    "word = \"python\"\n",
    "print(word[2:4])\n",
    "#2~3번째"
   ]
  },
  {
   "cell_type": "code",
   "execution_count": 12,
   "id": "ded7a09d",
   "metadata": {},
   "outputs": [
    {
     "name": "stdout",
     "output_type": "stream",
     "text": [
      "py\n"
     ]
    }
   ],
   "source": [
    "word = \"python\"\n",
    "print(word[:2])\n",
    "#0~1번째"
   ]
  },
  {
   "cell_type": "code",
   "execution_count": null,
   "id": "0fe7d863",
   "metadata": {},
   "outputs": [],
   "source": [
    "word = \"python\"\n",
    "print(word[4:])\n",
    "#4부터 끝까지"
   ]
  },
  {
   "cell_type": "code",
   "execution_count": 11,
   "id": "842aef7c",
   "metadata": {},
   "outputs": [
    {
     "name": "stdout",
     "output_type": "stream",
     "text": [
      "o\n"
     ]
    }
   ],
   "source": [
    "word = \"python\"\n",
    "print(word[-2])\n",
    "# -2 자리의 문자"
   ]
  },
  {
   "cell_type": "code",
   "execution_count": 10,
   "id": "b0df36c3",
   "metadata": {},
   "outputs": [
    {
     "name": "stdout",
     "output_type": "stream",
     "text": [
      "pyt\n"
     ]
    }
   ],
   "source": [
    "word = \"python\"\n",
    "print(word[:-3])\n",
    "#처음부터 끝에서 -3 이전까지출력"
   ]
  },
  {
   "cell_type": "code",
   "execution_count": 9,
   "id": "ab85c9f0",
   "metadata": {},
   "outputs": [
    {
     "data": {
      "text/plain": [
       "6"
      ]
     },
     "execution_count": 9,
     "metadata": {},
     "output_type": "execute_result"
    }
   ],
   "source": [
    "word = \"python\"\n",
    "len(word)\n",
    "#문자열길이\n"
   ]
  },
  {
   "cell_type": "raw",
   "id": "516914b0",
   "metadata": {},
   "source": [
    "[예제 2]\n",
    "string = \"Python programming is easy\"\n",
    "string = string.upper()\n",
    "print(string)\n",
    "\n",
    "string.upper()       string.lower()        string.swapcase()        string.title()\n",
    "string.count(\"i\")    string.find(\"on\")    "
   ]
  },
  {
   "cell_type": "code",
   "execution_count": 13,
   "id": "b8adae80",
   "metadata": {},
   "outputs": [
    {
     "name": "stdout",
     "output_type": "stream",
     "text": [
      "PYTHON PROGRAMMING IS EASY\n"
     ]
    }
   ],
   "source": [
    "# [예제 연습]\n",
    "string = \"Python programming is easy\"\n",
    "string = string.upper() #문자열을 모두 대문자로 변환\n",
    "print(string)"
   ]
  },
  {
   "cell_type": "code",
   "execution_count": 14,
   "id": "5b49a5ff",
   "metadata": {},
   "outputs": [
    {
     "name": "stdout",
     "output_type": "stream",
     "text": [
      "python programming is easy\n"
     ]
    }
   ],
   "source": [
    "# [예제 연습]\n",
    "string = \"Python programming is easy\"\n",
    "string = string.lower() #문자열을 모두 소문자로 변환\n",
    "print(string)"
   ]
  },
  {
   "cell_type": "code",
   "execution_count": 15,
   "id": "6e023199",
   "metadata": {},
   "outputs": [
    {
     "name": "stdout",
     "output_type": "stream",
     "text": [
      "pYTHON PROGRAMMING IS EASY\n"
     ]
    }
   ],
   "source": [
    "# [예제 연습]\n",
    "string = \"Python programming is easy\"\n",
    "string = string.swapcase() #문자열의 대소문자를 전환시킨다\n",
    "print(string)"
   ]
  },
  {
   "cell_type": "code",
   "execution_count": 16,
   "id": "9e706c3b",
   "metadata": {},
   "outputs": [
    {
     "name": "stdout",
     "output_type": "stream",
     "text": [
      "Python Programming Is Easy\n"
     ]
    }
   ],
   "source": [
    "# [예제 연습]\n",
    "string = \"Python programming is easy\"\n",
    "string = string.title() #문자열을 첫단어를 모두 대문자로 바꾼다\n",
    "print(string)"
   ]
  },
  {
   "cell_type": "code",
   "execution_count": 19,
   "id": "dbf14656",
   "metadata": {},
   "outputs": [
    {
     "name": "stdout",
     "output_type": "stream",
     "text": [
      "2\n"
     ]
    }
   ],
   "source": [
    "# [예제 연습]\n",
    "string = \"Python programming is easy\"\n",
    "string = string.count(\"i\") # \"i\"가 등장하는 횟수인 2를 반환\n",
    "print(string)"
   ]
  },
  {
   "cell_type": "code",
   "execution_count": 20,
   "id": "0fb89cd2",
   "metadata": {},
   "outputs": [
    {
     "name": "stdout",
     "output_type": "stream",
     "text": [
      "4\n"
     ]
    }
   ],
   "source": [
    "# [예제 연습]\n",
    "string = \"Python programming is easy\"\n",
    "string = string.find(\"on\") #부분 문자열 \"on\"이 처음으로 등장하는 인덱스인 4를 반환합니다. 문자열의 인덱스는 0부터 시작하므로 \"on\"은 인덱스 4부터 시작합니다\n",
    "print(string)"
   ]
  },
  {
   "cell_type": "raw",
   "id": "585fb278",
   "metadata": {},
   "source": [
    "[참조] 자료구조 - list\n",
    "\n",
    "▶ (리스트 선언)  리스트이름 = list()\n",
    "▶ (사용 예)      리스트이름 = [항목1, 항목2, 항목3, ......]\n",
    "                  ※ 항목은 문자, 수치로 사용\n",
    "\n",
    "추가 : append(데이터)\n",
    "삽입 : insert(위치, 데이터)\n",
    "삭제 : remove(데이터) / pop(위치) \n",
    "구간삭제 : del(리스트명[시작위치 : 끝위치+1])\n",
    "\t\t   리스트명[시작위치 : 끝위치+1] = [ ]"
   ]
  },
  {
   "cell_type": "raw",
   "id": "0163ae90",
   "metadata": {},
   "source": [
    "[예제 3]\n",
    "fruit = list()\n",
    "fruit = [\"딸기\", \"수박\", \"포도\", \"사과\"]\n",
    "print(fruit)\n",
    "\n",
    "fruit.append(\"참외\")    fruit.insert(2, \"오렌지\")     fruit.remove(\"포도\")\n",
    "fruit.pop(1)            del(fruit[1:3])               fruit[1:3] =[]\n",
    "fruit[2] = \"오렌지\""
   ]
  },
  {
   "cell_type": "code",
   "execution_count": 21,
   "id": "aa0689ab",
   "metadata": {},
   "outputs": [
    {
     "name": "stdout",
     "output_type": "stream",
     "text": [
      "['딸기', '수박', '포도', '사과']\n"
     ]
    }
   ],
   "source": [
    "#[예제 연습]\n",
    "fruit = list()\n",
    "fruit = [\"딸기\", \"수박\", \"포도\", \"사과\"]\n",
    "print(fruit)"
   ]
  },
  {
   "cell_type": "code",
   "execution_count": 22,
   "id": "038610bb",
   "metadata": {},
   "outputs": [
    {
     "name": "stdout",
     "output_type": "stream",
     "text": [
      "['딸기', '수박', '포도', '사과', '참외']\n"
     ]
    }
   ],
   "source": [
    "#[예제 연습]\n",
    "fruit = list()\n",
    "fruit = [\"딸기\", \"수박\", \"포도\", \"사과\"]\n",
    "fruit.append(\"참외\") #리스트의 끝에 새로운 항목을 추가\n",
    "print(fruit)"
   ]
  },
  {
   "cell_type": "code",
   "execution_count": 23,
   "id": "a376e421",
   "metadata": {},
   "outputs": [
    {
     "name": "stdout",
     "output_type": "stream",
     "text": [
      "['딸기', '수박', '오렌지', '포도', '사과']\n"
     ]
    }
   ],
   "source": [
    "#[예제 연습]\n",
    "fruit = list()\n",
    "fruit = [\"딸기\", \"수박\", \"포도\", \"사과\"]\n",
    "fruit.insert(2, \"오렌지\") #데이터를 2번 인덱스에 추가\n",
    "print(fruit)"
   ]
  },
  {
   "cell_type": "code",
   "execution_count": 24,
   "id": "d11667a5",
   "metadata": {},
   "outputs": [
    {
     "name": "stdout",
     "output_type": "stream",
     "text": [
      "['딸기', '수박', '사과']\n"
     ]
    }
   ],
   "source": [
    "#[예제 연습]\n",
    "fruit = list()\n",
    "fruit = [\"딸기\", \"수박\", \"포도\", \"사과\"]\n",
    "fruit.remove(\"포도\") #포도라는 데이터를 삭제\n",
    "print(fruit)"
   ]
  },
  {
   "cell_type": "code",
   "execution_count": 27,
   "id": "448a1674",
   "metadata": {},
   "outputs": [
    {
     "name": "stdout",
     "output_type": "stream",
     "text": [
      "['딸기', '포도', '사과']\n"
     ]
    }
   ],
   "source": [
    "#[예제 연습]\n",
    "fruit = list()\n",
    "fruit = [\"딸기\", \"수박\", \"포도\", \"사과\"]\n",
    "fruit.pop(1) #인덱스 1에 해당하는 항목을 제거하고 해당 항목을 반환\n",
    "print(fruit)"
   ]
  },
  {
   "cell_type": "code",
   "execution_count": 29,
   "id": "6cbb45bd",
   "metadata": {},
   "outputs": [
    {
     "name": "stdout",
     "output_type": "stream",
     "text": [
      "['딸기', '사과']\n"
     ]
    }
   ],
   "source": [
    "#[예제 연습]\n",
    "fruit = list()\n",
    "fruit = [\"딸기\", \"수박\", \"포도\", \"사과\"]\n",
    "del(fruit[1:3]) #인덱스 1부터 2까지의 항목을 제거[시작위치:끝위치+1]\n",
    "print(fruit)"
   ]
  },
  {
   "cell_type": "code",
   "execution_count": 31,
   "id": "562e5fc9",
   "metadata": {},
   "outputs": [
    {
     "name": "stdout",
     "output_type": "stream",
     "text": [
      "['딸기', '사과']\n"
     ]
    }
   ],
   "source": [
    "#[예제 연습]\n",
    "fruit = list()\n",
    "fruit = [\"딸기\", \"수박\", \"포도\", \"사과\"]\n",
    "fruit[1:3] =[] #인덱스 1부터 2까지의 항목을 빈 리스트로 대체[시작위치:끝위치+1]\n",
    "print(fruit)"
   ]
  },
  {
   "cell_type": "code",
   "execution_count": 32,
   "id": "dcd69c17",
   "metadata": {},
   "outputs": [
    {
     "name": "stdout",
     "output_type": "stream",
     "text": [
      "['딸기', '수박', '오렌지', '사과']\n"
     ]
    }
   ],
   "source": [
    "#[예제 연습]\n",
    "fruit = list()\n",
    "fruit = [\"딸기\", \"수박\", \"포도\", \"사과\"]\n",
    "fruit[2] = \"오렌지\" #인덱스 2에 해당하는 항목을 \"오렌지\"로 대체\n",
    "print(fruit)"
   ]
  },
  {
   "cell_type": "raw",
   "id": "47c4bb16",
   "metadata": {},
   "source": [
    "[문제 1] 다음 항목에서 점수에 대한 2차원 리스트를 작성하시오.\n",
    "\n",
    "학     생   홍길동  갑돌이  갑순이  전우치\n",
    "국어 점수     49      94      88      75\n",
    "수학 점수     56      67      58      67 \n",
    "영어 점수     80      78      91      84 \n",
    "\n",
    "[참조] 2차원 배열 만들기\n",
    "리스트명 = [ [] ]"
   ]
  },
  {
   "cell_type": "code",
   "execution_count": 36,
   "id": "847fb873",
   "metadata": {},
   "outputs": [
    {
     "name": "stdout",
     "output_type": "stream",
     "text": [
      "[[49, 94, 88, 75], [56, 67, 58, 67], [80, 78, 91, 84]]\n",
      "[80, 78, 91, 84]\n"
     ]
    }
   ],
   "source": [
    "#[문제 풀기]\n",
    "items = [[49, 94, 88, 75],[56, 67, 58, 67],[80, 78, 91, 84]] #items의 0번 1번 2번 인덱스 구성\n",
    "print(items)\n",
    "print(items[2])# 2번 인덱스 출력"
   ]
  },
  {
   "cell_type": "code",
   "execution_count": 38,
   "id": "58f58d89",
   "metadata": {},
   "outputs": [
    {
     "name": "stdout",
     "output_type": "stream",
     "text": [
      "[[49, 94, 88, 75], [56, 67, 58, 67], [80, 78, 91, 84]]\n",
      "[80, 78, 91, 84]\n",
      "88\n"
     ]
    }
   ],
   "source": [
    "#[문제 풀기]\n",
    "kor = [49, 94, 88, 75]\n",
    "mat = [56, 67, 58, 67]\n",
    "eng = [80, 78, 91, 84] \n",
    "items = [kor, mat, eng] #items의 0번 1번 2번 인덱스 구성\n",
    "print(items)\n",
    "print(items[2]) #items의 2번 인덱스 출력\n",
    "print(items[0][2]) # 리스트의 0번째줄 2번째칸 출력"
   ]
  },
  {
   "cell_type": "raw",
   "id": "f8892e0a",
   "metadata": {},
   "source": [
    "[문제 2] lang1과 lang2 리스트가 있을 때 lang1과 lang2의 원소를 모두 갖고 있는 langs 리스트를 만들어라.\n",
    "  ▷ lang1 = [\"월\", \"화\", \"수\"]\n",
    "  ▷ lang2 = [\"목\", \"금\", \"토\", “일”]\n",
    "\n",
    "(출력결과)[\"월\", \"화\", \"수\", \"목\", \"금\", \"토\", “일”]\n",
    "(참조) 리스트 결합 : 리스트명 + 리스트명"
   ]
  },
  {
   "cell_type": "code",
   "execution_count": 40,
   "id": "2b2e79b1",
   "metadata": {},
   "outputs": [
    {
     "name": "stdout",
     "output_type": "stream",
     "text": [
      "['월', '화', '수', '목', '금', '토', '일']\n"
     ]
    }
   ],
   "source": [
    "#[문제 풀기]\n",
    "lang1 = [\"월\", \"화\", \"수\"]\n",
    "lang2 = [\"목\", \"금\", \"토\", \"일\"]\n",
    "lang = lang1 + lang2\n",
    "print(lang)\n"
   ]
  },
  {
   "cell_type": "raw",
   "id": "91fceb7a",
   "metadata": {},
   "source": [
    "[문제 3] 다음 리스트에서 데이터의 개수, 최대값, 최소값, 합, 평균값을 출력하시오.\n",
    "nums = [4, 2, 3, 6, 7, 9, 1, 5]\n",
    "\n",
    "(참조)\n",
    "▷ 합 : sum(리스트명)\n",
    "▷ 데이터의 개수 : len(리스트명)\n",
    "▷ 최대값 : max(리스트명)\n",
    "▷ 최소값 : min(리스트명)\n",
    "▷ 평균값 : sum(리스트명) / len(리스트명)"
   ]
  },
  {
   "cell_type": "code",
   "execution_count": 42,
   "id": "22e78650",
   "metadata": {},
   "outputs": [
    {
     "name": "stdout",
     "output_type": "stream",
     "text": [
      "개수 :  8\n",
      "최대값 :  9\n",
      "최소값 :  1\n",
      "합 :  37\n",
      "평균값 :  4.625\n"
     ]
    }
   ],
   "source": [
    "#[문제 풀기]\n",
    "nums = [4,2,3,6,7,9,1,5]\n",
    "print(\"개수 : \", len(nums))\n",
    "print(\"최대값 : \", max(nums))\n",
    "print(\"최소값 : \", min(nums))\n",
    "print(\"합 : \", sum(nums))\n",
    "print(\"평균값 : \", sum(nums) / len(nums))"
   ]
  },
  {
   "cell_type": "code",
   "execution_count": 61,
   "id": "e67588f5",
   "metadata": {},
   "outputs": [
    {
     "name": "stdout",
     "output_type": "stream",
     "text": [
      "1 수치입력:2\n",
      "2 수치입력:3\n",
      "3 수치입력:4\n",
      "4 수치입력:5\n",
      "[2, 3, 4, 5]\n",
      "5\n"
     ]
    }
   ],
   "source": [
    "\n",
    "num = list()\n",
    "for i in range(1, 5, 1):\n",
    "    print(i,\"수치입력:\",end=\"\")\n",
    "    no = int(input())\n",
    "    print(no)\n",
    "    num.append(no)\n",
    "print(num)\n",
    "print(max(num))"
   ]
  },
  {
   "cell_type": "code",
   "execution_count": 60,
   "id": "9c66900c",
   "metadata": {},
   "outputs": [
    {
     "name": "stdout",
     "output_type": "stream",
     "text": [
      "몇 회를 할까요?:4\n",
      "1 수치입력:1\n",
      "2 수치입력:2\n",
      "3 수치입력:2\n",
      "4 수치입력:3\n",
      "[1, 2, 2, 3]\n",
      "3\n"
     ]
    }
   ],
   "source": [
    "\n",
    "num = list()\n",
    "print(\"몇 회를 할까요?:\",end=\"\")\n",
    "cnt = int(input())\n",
    "print(cnt)\n",
    "for i in range(1, cnt+1, 1):\n",
    "    print(i,\"수치입력:\",end=\"\")\n",
    "    no = int(input())\n",
    "    print(no)\n",
    "    num.append(no)\n",
    "print(num)\n",
    "print(max(num))"
   ]
  },
  {
   "cell_type": "raw",
   "id": "4a4a086a",
   "metadata": {},
   "source": [
    "[문제 4] 다음 리스트에서 항목을 정렬하시오.\n",
    "nums = [4, 2, 3, 6, 7, 9, 1, 5]\n",
    "\n",
    "(참조)\n",
    "▷ 정렬 : 리스트명.sort()"
   ]
  },
  {
   "cell_type": "code",
   "execution_count": 2,
   "id": "c3fdd22a",
   "metadata": {},
   "outputs": [],
   "source": [
    "#[문제 풀기]\n"
   ]
  },
  {
   "cell_type": "raw",
   "id": "f8646cb4",
   "metadata": {},
   "source": [
    "[문제 5] 리스트 항목 10개를 0으로 저장하시오.\n",
    "\n",
    "(출력결과) [0, 0, 0, 0, 0, 0, 0, 0, 0, 0]"
   ]
  },
  {
   "cell_type": "code",
   "execution_count": 3,
   "id": "48fdc9bd",
   "metadata": {},
   "outputs": [],
   "source": [
    "#[문제5 풀기 - '*'를 사용하기]\n"
   ]
  },
  {
   "cell_type": "code",
   "execution_count": 17,
   "id": "5ab1f6a6",
   "metadata": {},
   "outputs": [],
   "source": [
    "#[문제5 풀기 - for문을 사용하여 리스트에 추가하기]\n"
   ]
  },
  {
   "cell_type": "code",
   "execution_count": 18,
   "id": "c333990e",
   "metadata": {},
   "outputs": [],
   "source": [
    "#[문제5 풀기 - 리스트 컴프리헨션 사용하기]\n"
   ]
  },
  {
   "cell_type": "raw",
   "id": "dcf5e6f5",
   "metadata": {},
   "source": [
    "[문제 6] 다음 리스트 항목끼리의 합을 구하시오.\n",
    "number1 = [1, 2, 3]\n",
    "number2 = [4, 5, 6]\n",
    "\n",
    "(출력결과) [5, 7, 9]"
   ]
  },
  {
   "cell_type": "code",
   "execution_count": 4,
   "id": "48618db7",
   "metadata": {},
   "outputs": [],
   "source": [
    "#[문제 풀기]\n"
   ]
  },
  {
   "cell_type": "raw",
   "id": "cfb44f7d",
   "metadata": {},
   "source": [
    "[문제 7] 다음 리스트에서 1의 요소의 모든 인텍스값을 찾아보시오.\n",
    "number = [1, 2, 1, 5, 7, 3, 1, 9, 8, 3]\n",
    "\n",
    "(출력결과) [0, 2, 6]"
   ]
  },
  {
   "cell_type": "code",
   "execution_count": 5,
   "id": "53dc01e0",
   "metadata": {},
   "outputs": [],
   "source": [
    "#[문제 풀기]\n"
   ]
  },
  {
   "cell_type": "raw",
   "id": "f43d8bf4",
   "metadata": {},
   "source": [
    "[문제 8] 다음 리스트에서 항목별을 출력하시오.\n",
    "strim = [1, [“AB”, “b”, 4], “abc”, 4]\n",
    "\n",
    "(출력결과)\n",
    " 1\n",
    " [‘AB’, ‘b’, 4]\n",
    " abc\n",
    " 4"
   ]
  },
  {
   "cell_type": "code",
   "execution_count": 22,
   "id": "6577df2b",
   "metadata": {},
   "outputs": [],
   "source": [
    "#[문제 풀기]\n"
   ]
  },
  {
   "cell_type": "raw",
   "id": "5c377fc9",
   "metadata": {},
   "source": [
    "[참조] 자료구조 - tuple\n",
    "\n",
    "▶ 데이터의 값을 변경을 금지하기 위해 사용\n",
    "\n",
    "(튜플 선언)    튜플이름 = tuple()     \n",
    "(사용 예)  \t튜플이름 = (항목1, 항목2, ㆍㆍㆍㆍ)\n",
    "\n",
    "(참조) 리스트와 튜플의 차이점\n",
    " 리스트 : 항목 변경 가능       / 데이터 초기화 선언  a = [ ,  ,  , ]\n",
    " 튜플   : 항목 변경 불가능     / 데이터 초기화 선언  a = ( ,  ,  , )"
   ]
  },
  {
   "cell_type": "raw",
   "id": "429f0bc7",
   "metadata": {},
   "source": [
    "[문제 9] \"그랜저\", \"쏘나타\", \"아반떼\", \"캐스퍼\"를 튜플로 저장하시오."
   ]
  },
  {
   "cell_type": "code",
   "execution_count": 7,
   "id": "9d957391",
   "metadata": {},
   "outputs": [],
   "source": [
    "#[문제 풀기]\n"
   ]
  },
  {
   "cell_type": "raw",
   "id": "bb299f78",
   "metadata": {},
   "source": [
    "[문제 10] 다음 '수박'을 '오렌지'로 변경하시오.\n",
    "fruit = (\"딸기\", \"수박\", \"포도\", \"사과\")\n",
    "\n",
    "(참조) 튜플로 저장된 값은 변경이 불가능하므로 리스트로 전환하여 변경\n",
    "(튜플에서 리스트로 전환) list(튜플명)\n",
    "(리스트에서 튜플로 전환) tuple(리스트명)"
   ]
  },
  {
   "cell_type": "code",
   "execution_count": 8,
   "id": "725325f8",
   "metadata": {},
   "outputs": [],
   "source": [
    "#[문제 풀기]\n"
   ]
  },
  {
   "cell_type": "raw",
   "id": "9a3cdcf7",
   "metadata": {},
   "source": [
    "[문제 11] '포도'를 삭제하시오.\n",
    "fruit = (\"딸기\", \"수박\", \"포도\", \"사과\")"
   ]
  },
  {
   "cell_type": "code",
   "execution_count": 9,
   "id": "4bd084a7",
   "metadata": {},
   "outputs": [],
   "source": [
    "#[문제 풀기]\n"
   ]
  },
  {
   "cell_type": "raw",
   "id": "3b30cea5",
   "metadata": {},
   "source": [
    "[참조] 자료구조 - set\n",
    "\n",
    "▶ 데이터를 순서 없이 저장하면서 중복을 불허하는 자료형\n",
    "\n",
    "(set 선언) set(리스트 또는 튜플)\n",
    "\n",
    "(참조)\n",
    "▷ 추가 : add(데이터)   /   update([리스트])\n",
    "▷ 삭제 : remove(데이터) / clear() - 전체삭제 \n",
    "▷ 합집합 : |\n",
    "▷ 교집합 : &\n",
    "▷ 차집합 : -"
   ]
  },
  {
   "cell_type": "raw",
   "id": "05534118",
   "metadata": {},
   "source": [
    "[문제 12] 다음 리스트를 set로 변환하시오.\n",
    "number = [1, 2, 3, 1, 2, 4]\n",
    "\n",
    "(출력결과) {1, 2, 3, 4}"
   ]
  },
  {
   "cell_type": "code",
   "execution_count": 10,
   "id": "7c60ca4c",
   "metadata": {},
   "outputs": [],
   "source": [
    "#[문제 풀기]\n"
   ]
  },
  {
   "cell_type": "raw",
   "id": "528bafa4",
   "metadata": {},
   "source": [
    "[문제 13] 다음 set값을 참고로 하여 다음의 조건에 맞게 출력하시오.\n",
    "\n",
    "number = {1, 2, 3, 4}\n",
    "\n",
    "① 수치 1을 추가하시오.\n",
    "② 수치 7을 추가하시오.\n",
    "③ 수치 2를 삭제하시오.\n",
    "④ [1, 4, 7, 9]를 추가하시오.\n",
    "⑤ 전체를 삭제하시오."
   ]
  },
  {
   "cell_type": "code",
   "execution_count": 11,
   "id": "2a7faeaf",
   "metadata": {},
   "outputs": [],
   "source": [
    "#[문제 풀기]\n"
   ]
  },
  {
   "cell_type": "raw",
   "id": "2d150a9c",
   "metadata": {},
   "source": [
    "[문제 14] 다음 리스트에 대한 참고로 하여 문제를 해결하시오.\n",
    "\n",
    " number1 = [1, 2, 3, 4, 5]\n",
    " number2 = [3, 4, 5, 6, 7]\n",
    " ① number1과 number2의 합집합을 구하시오.\n",
    " ② number1과 number2의 교집합을 구하시오.\n",
    " ③ number1에 대한 number2의 차집합을 구하시오."
   ]
  },
  {
   "cell_type": "code",
   "execution_count": 12,
   "id": "5066d731",
   "metadata": {},
   "outputs": [],
   "source": [
    "#[문제 풀기]\n"
   ]
  },
  {
   "cell_type": "raw",
   "id": "4d1bef53",
   "metadata": {},
   "source": [
    "[참조] 자료구조 - dictionary\n",
    "\n",
    "▶ 키와 값을 쌍으로 데이터(데이터, 리스트, 튜플)를 저장하는 방식\n",
    "\n",
    "(딕셔너리 선언)\t 딕셔너리 변수 = { }     \n",
    "(사용 예)  \t    딕셔너리 변수 = {키1 : 값1, 키2 : 값2, 키3 : 값3, ㆍㆍㆍ} "
   ]
  },
  {
   "cell_type": "raw",
   "id": "e6b1b5c6",
   "metadata": {},
   "source": [
    "[문제 15] 다음 표에서 학번을 키(key)로 사용하여 딕셔너리로 저장하시오.\n",
    " \n",
    " --------------------------\n",
    " 학번(key)      이름(value)\n",
    " --------------------------\n",
    " 220101         홍길동\n",
    " 210202         갑돌이\n",
    " 220105         전우치"
   ]
  },
  {
   "cell_type": "code",
   "execution_count": 13,
   "id": "38a883f3",
   "metadata": {},
   "outputs": [],
   "source": [
    "#[문제 풀기]\n"
   ]
  },
  {
   "cell_type": "raw",
   "id": "3b44e631",
   "metadata": {},
   "source": [
    "[문제 16] 다음 딕셔너리에서 코드번호 140, 명칭 '딸기'를 추가하시오.\n",
    "fruit = {110 : \"수박\", 120 : \"포도\", 130 : \"사과\"}"
   ]
  },
  {
   "cell_type": "code",
   "execution_count": 14,
   "id": "0f0022cc",
   "metadata": {},
   "outputs": [],
   "source": [
    "#[문제 풀기]\n"
   ]
  },
  {
   "cell_type": "raw",
   "id": "e7939c03",
   "metadata": {},
   "source": [
    "[문제 17] 다음 딕셔너리에서 '포도'를 삭제하시오.\n",
    "\n",
    "fruit = {110 : \"수박\", 120 : \"포도\", 130 : \"사과\"}\n",
    "\n",
    "(참조) del(딕셔너리명[key])"
   ]
  },
  {
   "cell_type": "code",
   "execution_count": 15,
   "id": "827185f9",
   "metadata": {},
   "outputs": [],
   "source": [
    "#[문제 풀기]\n"
   ]
  },
  {
   "cell_type": "raw",
   "id": "1f97ebcf",
   "metadata": {},
   "source": [
    "[문제 18] 다음 딕셔너리에서 '사과'를 '오렌지'로 변경하시오.\n",
    "\n",
    "fruit = {110 : \"수박\", 120 : \"포도\", 130 : \"사과\"}"
   ]
  },
  {
   "cell_type": "code",
   "execution_count": 16,
   "id": "5fe2b5af",
   "metadata": {},
   "outputs": [],
   "source": [
    "#[문제 풀기]\n"
   ]
  },
  {
   "cell_type": "raw",
   "id": "07ae6506",
   "metadata": {},
   "source": [
    "[문제 19] 다음 딕셔너리에서 키-값 쌍으로 출력하시오.(for문 사용)\n",
    "\n",
    "fruit = {110 : \"수박\", 120 : \"포도\", 130 : \"사과\"}\n",
    "\n",
    "(출력결과)\n",
    " 110 수박\n",
    " 120 포도\n",
    " 130 사과"
   ]
  },
  {
   "cell_type": "code",
   "execution_count": 17,
   "id": "a8edb31f",
   "metadata": {},
   "outputs": [],
   "source": [
    "#[문제 풀기]\n"
   ]
  },
  {
   "cell_type": "raw",
   "id": "ae117853",
   "metadata": {},
   "source": [
    "[문제 20] 다음 문자열을 분리하시오.\n",
    "\n",
    "\"python, jquery, javascript\"\n",
    "\n",
    "(참조) 문자열 분리 : 문자열.split()  # 문자열 분리를 하면 list로 저장"
   ]
  },
  {
   "cell_type": "code",
   "execution_count": 18,
   "id": "f822ef3b",
   "metadata": {},
   "outputs": [],
   "source": [
    "#[문제 풀기]\n"
   ]
  },
  {
   "cell_type": "raw",
   "id": "5d3412ff",
   "metadata": {},
   "source": [
    "[문제 21] 다음 리스트에 있는 문자열을 결합하시오.\n",
    "\n",
    "[‘red’, ‘blue’, ‘green’, ‘yellow’]\n",
    "\n",
    "(참조) ' '.join(리스트명)"
   ]
  },
  {
   "cell_type": "code",
   "execution_count": 19,
   "id": "7426ed40",
   "metadata": {},
   "outputs": [],
   "source": [
    "#[문제 풀기]\n"
   ]
  }
 ],
 "metadata": {
  "kernelspec": {
   "display_name": "Python 3 (ipykernel)",
   "language": "python",
   "name": "python3"
  },
  "language_info": {
   "codemirror_mode": {
    "name": "ipython",
    "version": 3
   },
   "file_extension": ".py",
   "mimetype": "text/x-python",
   "name": "python",
   "nbconvert_exporter": "python",
   "pygments_lexer": "ipython3",
   "version": "3.11.3"
  }
 },
 "nbformat": 4,
 "nbformat_minor": 5
}
