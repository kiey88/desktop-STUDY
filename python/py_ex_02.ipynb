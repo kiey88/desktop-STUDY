{
 "cells": [
  {
   "cell_type": "raw",
   "id": "26923eeb",
   "metadata": {},
   "source": [
    "[참조] 자료구조 - 문자열\n",
    "\n",
    "word = \"python\"\n",
    "--------------------------------------------\n",
    "문자열 |  p  |  y  |  t  |  h  |  o  |  n  |\n",
    "--------------------------------------------\n",
    "       | [0] | [1] | [2] | [3] | [4] | [5] |\n",
    " 위치  -------------------------------------\n",
    "       |[-6] |[-5] |[-4] |[-3] |[-2] |[-1] |\n",
    "--------------------------------------------"
   ]
  },
  {
   "cell_type": "raw",
   "id": "eda68721",
   "metadata": {},
   "source": [
    "[예제 1]\n",
    "word = \"python\"\n",
    "print(word)       #출력결과 : python\n",
    "print(word[3])    #출력결과 : h\n",
    "\n",
    "word[1]    word[-3]    word[2:4]    word[:2]\n",
    "word[4:]   word[-2:]   word[:-3]    len(word)"
   ]
  },
  {
   "cell_type": "code",
   "execution_count": null,
   "id": "f8369d41",
   "metadata": {},
   "outputs": [],
   "source": [
    "#[예제 연습]\n"
   ]
  },
  {
   "cell_type": "raw",
   "id": "516914b0",
   "metadata": {},
   "source": [
    "[예제 2]\n",
    "string = \"Python programming is easy\"\n",
    "string = string.upper()\n",
    "print(string)\n",
    "\n",
    "string.upper()       string.lower()        string.swapcase()        string.title()\n",
    "string.count(\"i\")    string.find(\"on\")    "
   ]
  },
  {
   "cell_type": "code",
   "execution_count": null,
   "id": "b8adae80",
   "metadata": {},
   "outputs": [],
   "source": [
    "# [예제 연습]\n"
   ]
  },
  {
   "cell_type": "raw",
   "id": "585fb278",
   "metadata": {},
   "source": [
    "[참조] 자료구조 - list\n",
    "\n",
    "▶ (리스트 선언)  리스트이름 = list()\n",
    "▶ (사용 예)      리스트이름 = [항목1, 항목2, 항목3, ......]\n",
    "                  ※ 항목은 문자, 수치로 사용\n",
    "\n",
    "추가 : append(데이터)\n",
    "삽입 : insert(위치, 데이터)\n",
    "삭제 : remove(데이터) / pop(위치) \n",
    "구간삭제 : del(리스트명[시작위치 : 끝위치+1])\n",
    "\t\t   리스트명[시작위치 : 끝위치+1] = [ ]"
   ]
  },
  {
   "cell_type": "raw",
   "id": "0163ae90",
   "metadata": {},
   "source": [
    "[예제 3]\n",
    "fruit = list()\n",
    "fruit = [\"딸기\", \"수박\", \"포도\", \"사과\"]\n",
    "print(fruit)\n",
    "\n",
    "fruit.append(\"참외\")    fruit.insert(2, \"오렌지\")     fruit.remove(\"포도\")\n",
    "fruit.pop(1)            del(fruit[1:3])               fruit[1:3] =[]\n",
    "fruit[2] = \"오렌지\""
   ]
  },
  {
   "cell_type": "code",
   "execution_count": 20,
   "id": "aa0689ab",
   "metadata": {},
   "outputs": [],
   "source": [
    "#[예제 연습]\n"
   ]
  },
  {
   "cell_type": "raw",
   "id": "47c4bb16",
   "metadata": {},
   "source": [
    "[문제 1] 다음 항목에서 점수에 대한 2차원 리스트를 작성하시오.\n",
    "\n",
    "학     생   홍길동  갑돌이  갑순이  전우치\n",
    "국어 점수     49      94      88      75\n",
    "수학 점수     56      67      58      67 \n",
    "영어 점수     80      78      91      84 \n",
    "\n",
    "[참조] 2차원 배열 만들기\n",
    "리스트명 = [ [] ]"
   ]
  },
  {
   "cell_type": "code",
   "execution_count": 1,
   "id": "847fb873",
   "metadata": {},
   "outputs": [],
   "source": [
    "#[문제 풀기]\n"
   ]
  },
  {
   "cell_type": "raw",
   "id": "f8892e0a",
   "metadata": {},
   "source": [
    "[문제 2] lang1과 lang2 리스트가 있을 때 lang1과 lang2의 원소를 모두 갖고 있는 langs 리스트를 만들어라.\n",
    "  ▷ lang1 = [\"월\", \"화\", \"수\"]\n",
    "  ▷ lang2 = [\"목\", \"금\", \"토\", “일”]\n",
    "\n",
    "(출력결과)[\"월\", \"화\", \"수\", \"목\", \"금\", \"토\", “일”]\n",
    "(참조) 리스트 결합 : 리스트명 + 리스트명"
   ]
  },
  {
   "cell_type": "code",
   "execution_count": 13,
   "id": "2b2e79b1",
   "metadata": {},
   "outputs": [],
   "source": [
    "#[문제 풀기]\n"
   ]
  },
  {
   "cell_type": "raw",
   "id": "91fceb7a",
   "metadata": {},
   "source": [
    "[문제 3] 다음 리스트에서 데이터의 개수, 최대값, 최소값, 합, 평균값을 출력하시오.\n",
    "nums = [4, 2, 3, 6, 7, 9, 1, 5]\n",
    "\n",
    "(참조)\n",
    "▷ 합 : sum(리스트명)\n",
    "▷ 데이터의 개수 : len(리스트명)\n",
    "▷ 최대값 : max(리스트명)\n",
    "▷ 최소값 : min(리스트명)\n",
    "▷ 평균값 : sum(리스트명) / len(리스트명)"
   ]
  },
  {
   "cell_type": "code",
   "execution_count": 14,
   "id": "22e78650",
   "metadata": {},
   "outputs": [],
   "source": [
    "#[문제 풀기]\n"
   ]
  },
  {
   "cell_type": "raw",
   "id": "4a4a086a",
   "metadata": {},
   "source": [
    "[문제 4] 다음 리스트에서 항목을 정렬하시오.\n",
    "nums = [4, 2, 3, 6, 7, 9, 1, 5]\n",
    "\n",
    "(참조)\n",
    "▷ 정렬 : 리스트명.sort()"
   ]
  },
  {
   "cell_type": "code",
   "execution_count": 2,
   "id": "c3fdd22a",
   "metadata": {},
   "outputs": [],
   "source": [
    "#[문제 풀기]\n"
   ]
  },
  {
   "cell_type": "raw",
   "id": "f8646cb4",
   "metadata": {},
   "source": [
    "[문제 5] 리스트 항목 10개를 0으로 저장하시오.\n",
    "\n",
    "(출력결과) [0, 0, 0, 0, 0, 0, 0, 0, 0, 0]"
   ]
  },
  {
   "cell_type": "code",
   "execution_count": 3,
   "id": "48fdc9bd",
   "metadata": {},
   "outputs": [],
   "source": [
    "#[문제5 풀기 - '*'를 사용하기]\n"
   ]
  },
  {
   "cell_type": "code",
   "execution_count": 17,
   "id": "5ab1f6a6",
   "metadata": {},
   "outputs": [],
   "source": [
    "#[문제5 풀기 - for문을 사용하여 리스트에 추가하기]\n"
   ]
  },
  {
   "cell_type": "code",
   "execution_count": 18,
   "id": "c333990e",
   "metadata": {},
   "outputs": [],
   "source": [
    "#[문제5 풀기 - 리스트 컴프리헨션 사용하기]\n"
   ]
  },
  {
   "cell_type": "raw",
   "id": "dcf5e6f5",
   "metadata": {},
   "source": [
    "[문제 6] 다음 리스트 항목끼리의 합을 구하시오.\n",
    "number1 = [1, 2, 3]\n",
    "number2 = [4, 5, 6]\n",
    "\n",
    "(출력결과) [5, 7, 9]"
   ]
  },
  {
   "cell_type": "code",
   "execution_count": 4,
   "id": "48618db7",
   "metadata": {},
   "outputs": [],
   "source": [
    "#[문제 풀기]\n"
   ]
  },
  {
   "cell_type": "raw",
   "id": "cfb44f7d",
   "metadata": {},
   "source": [
    "[문제 7] 다음 리스트에서 1의 요소의 모든 인텍스값을 찾아보시오.\n",
    "number = [1, 2, 1, 5, 7, 3, 1, 9, 8, 3]\n",
    "\n",
    "(출력결과) [0, 2, 6]"
   ]
  },
  {
   "cell_type": "code",
   "execution_count": 5,
   "id": "53dc01e0",
   "metadata": {},
   "outputs": [],
   "source": [
    "#[문제 풀기]\n"
   ]
  },
  {
   "cell_type": "raw",
   "id": "f43d8bf4",
   "metadata": {},
   "source": [
    "[문제 8] 다음 리스트에서 항목별을 출력하시오.\n",
    "strim = [1, [“AB”, “b”, 4], “abc”, 4]\n",
    "\n",
    "(출력결과)\n",
    " 1\n",
    " [‘AB’, ‘b’, 4]\n",
    " abc\n",
    " 4"
   ]
  },
  {
   "cell_type": "code",
   "execution_count": 22,
   "id": "6577df2b",
   "metadata": {},
   "outputs": [],
   "source": [
    "#[문제 풀기]\n"
   ]
  },
  {
   "cell_type": "raw",
   "id": "5c377fc9",
   "metadata": {},
   "source": [
    "[참조] 자료구조 - tuple\n",
    "\n",
    "▶ 데이터의 값을 변경을 금지하기 위해 사용\n",
    "\n",
    "(튜플 선언)    튜플이름 = tuple()     \n",
    "(사용 예)  \t튜플이름 = (항목1, 항목2, ㆍㆍㆍㆍ)\n",
    "\n",
    "(참조) 리스트와 튜플의 차이점\n",
    " 리스트 : 항목 변경 가능       / 데이터 초기화 선언  a = [ ,  ,  , ]\n",
    " 튜플   : 항목 변경 불가능     / 데이터 초기화 선언  a = ( ,  ,  , )"
   ]
  },
  {
   "cell_type": "raw",
   "id": "429f0bc7",
   "metadata": {},
   "source": [
    "[문제 9] \"그랜저\", \"쏘나타\", \"아반떼\", \"캐스퍼\"를 튜플로 저장하시오."
   ]
  },
  {
   "cell_type": "code",
   "execution_count": 7,
   "id": "9d957391",
   "metadata": {},
   "outputs": [],
   "source": [
    "#[문제 풀기]\n"
   ]
  },
  {
   "cell_type": "raw",
   "id": "bb299f78",
   "metadata": {},
   "source": [
    "[문제 10] 다음 '수박'을 '오렌지'로 변경하시오.\n",
    "fruit = (\"딸기\", \"수박\", \"포도\", \"사과\")\n",
    "\n",
    "(참조) 튜플로 저장된 값은 변경이 불가능하므로 리스트로 전환하여 변경\n",
    "(튜플에서 리스트로 전환) list(튜플명)\n",
    "(리스트에서 튜플로 전환) tuple(리스트명)"
   ]
  },
  {
   "cell_type": "code",
   "execution_count": 8,
   "id": "725325f8",
   "metadata": {},
   "outputs": [],
   "source": [
    "#[문제 풀기]\n"
   ]
  },
  {
   "cell_type": "raw",
   "id": "9a3cdcf7",
   "metadata": {},
   "source": [
    "[문제 11] '포도'를 삭제하시오.\n",
    "fruit = (\"딸기\", \"수박\", \"포도\", \"사과\")"
   ]
  },
  {
   "cell_type": "code",
   "execution_count": 9,
   "id": "4bd084a7",
   "metadata": {},
   "outputs": [],
   "source": [
    "#[문제 풀기]\n"
   ]
  },
  {
   "cell_type": "raw",
   "id": "3b30cea5",
   "metadata": {},
   "source": [
    "[참조] 자료구조 - set\n",
    "\n",
    "▶ 데이터를 순서 없이 저장하면서 중복을 불허하는 자료형\n",
    "\n",
    "(set 선언) set(리스트 또는 튜플)\n",
    "\n",
    "(참조)\n",
    "▷ 추가 : add(데이터)   /   update([리스트])\n",
    "▷ 삭제 : remove(데이터) / clear() - 전체삭제 \n",
    "▷ 합집합 : |\n",
    "▷ 교집합 : &\n",
    "▷ 차집합 : -"
   ]
  },
  {
   "cell_type": "raw",
   "id": "05534118",
   "metadata": {},
   "source": [
    "[문제 12] 다음 리스트를 set로 변환하시오.\n",
    "number = [1, 2, 3, 1, 2, 4]\n",
    "\n",
    "(출력결과) {1, 2, 3, 4}"
   ]
  },
  {
   "cell_type": "code",
   "execution_count": 10,
   "id": "7c60ca4c",
   "metadata": {},
   "outputs": [],
   "source": [
    "#[문제 풀기]\n"
   ]
  },
  {
   "cell_type": "raw",
   "id": "528bafa4",
   "metadata": {},
   "source": [
    "[문제 13] 다음 set값을 참고로 하여 다음의 조건에 맞게 출력하시오.\n",
    "\n",
    "number = {1, 2, 3, 4}\n",
    "\n",
    "① 수치 1을 추가하시오.\n",
    "② 수치 7을 추가하시오.\n",
    "③ 수치 2를 삭제하시오.\n",
    "④ [1, 4, 7, 9]를 추가하시오.\n",
    "⑤ 전체를 삭제하시오."
   ]
  },
  {
   "cell_type": "code",
   "execution_count": 11,
   "id": "2a7faeaf",
   "metadata": {},
   "outputs": [],
   "source": [
    "#[문제 풀기]\n"
   ]
  },
  {
   "cell_type": "raw",
   "id": "2d150a9c",
   "metadata": {},
   "source": [
    "[문제 14] 다음 리스트에 대한 참고로 하여 문제를 해결하시오.\n",
    "\n",
    " number1 = [1, 2, 3, 4, 5]\n",
    " number2 = [3, 4, 5, 6, 7]\n",
    " ① number1과 number2의 합집합을 구하시오.\n",
    " ② number1과 number2의 교집합을 구하시오.\n",
    " ③ number1에 대한 number2의 차집합을 구하시오."
   ]
  },
  {
   "cell_type": "code",
   "execution_count": 12,
   "id": "5066d731",
   "metadata": {},
   "outputs": [],
   "source": [
    "#[문제 풀기]\n"
   ]
  },
  {
   "cell_type": "raw",
   "id": "4d1bef53",
   "metadata": {},
   "source": [
    "[참조] 자료구조 - dictionary\n",
    "\n",
    "▶ 키와 값을 쌍으로 데이터(데이터, 리스트, 튜플)를 저장하는 방식\n",
    "\n",
    "(딕셔너리 선언)\t 딕셔너리 변수 = { }     \n",
    "(사용 예)  \t    딕셔너리 변수 = {키1 : 값1, 키2 : 값2, 키3 : 값3, ㆍㆍㆍ} "
   ]
  },
  {
   "cell_type": "raw",
   "id": "e6b1b5c6",
   "metadata": {},
   "source": [
    "[문제 15] 다음 표에서 학번을 키(key)로 사용하여 딕셔너리로 저장하시오.\n",
    " \n",
    " --------------------------\n",
    " 학번(key)      이름(value)\n",
    " --------------------------\n",
    " 220101         홍길동\n",
    " 210202         갑돌이\n",
    " 220105         전우치"
   ]
  },
  {
   "cell_type": "code",
   "execution_count": 13,
   "id": "38a883f3",
   "metadata": {},
   "outputs": [],
   "source": [
    "#[문제 풀기]\n"
   ]
  },
  {
   "cell_type": "raw",
   "id": "3b44e631",
   "metadata": {},
   "source": [
    "[문제 16] 다음 딕셔너리에서 코드번호 140, 명칭 '딸기'를 추가하시오.\n",
    "fruit = {110 : \"수박\", 120 : \"포도\", 130 : \"사과\"}"
   ]
  },
  {
   "cell_type": "code",
   "execution_count": 14,
   "id": "0f0022cc",
   "metadata": {},
   "outputs": [],
   "source": [
    "#[문제 풀기]\n"
   ]
  },
  {
   "cell_type": "raw",
   "id": "e7939c03",
   "metadata": {},
   "source": [
    "[문제 17] 다음 딕셔너리에서 '포도'를 삭제하시오.\n",
    "\n",
    "fruit = {110 : \"수박\", 120 : \"포도\", 130 : \"사과\"}\n",
    "\n",
    "(참조) del(딕셔너리명[key])"
   ]
  },
  {
   "cell_type": "code",
   "execution_count": 15,
   "id": "827185f9",
   "metadata": {},
   "outputs": [],
   "source": [
    "#[문제 풀기]\n"
   ]
  },
  {
   "cell_type": "raw",
   "id": "1f97ebcf",
   "metadata": {},
   "source": [
    "[문제 18] 다음 딕셔너리에서 '사과'를 '오렌지'로 변경하시오.\n",
    "\n",
    "fruit = {110 : \"수박\", 120 : \"포도\", 130 : \"사과\"}"
   ]
  },
  {
   "cell_type": "code",
   "execution_count": 16,
   "id": "5fe2b5af",
   "metadata": {},
   "outputs": [],
   "source": [
    "#[문제 풀기]\n"
   ]
  },
  {
   "cell_type": "raw",
   "id": "07ae6506",
   "metadata": {},
   "source": [
    "[문제 19] 다음 딕셔너리에서 키-값 쌍으로 출력하시오.(for문 사용)\n",
    "\n",
    "fruit = {110 : \"수박\", 120 : \"포도\", 130 : \"사과\"}\n",
    "\n",
    "(출력결과)\n",
    " 110 수박\n",
    " 120 포도\n",
    " 130 사과"
   ]
  },
  {
   "cell_type": "code",
   "execution_count": 17,
   "id": "a8edb31f",
   "metadata": {},
   "outputs": [],
   "source": [
    "#[문제 풀기]\n"
   ]
  },
  {
   "cell_type": "raw",
   "id": "ae117853",
   "metadata": {},
   "source": [
    "[문제 20] 다음 문자열을 분리하시오.\n",
    "\n",
    "\"python, jquery, javascript\"\n",
    "\n",
    "(참조) 문자열 분리 : 문자열.split()  # 문자열 분리를 하면 list로 저장"
   ]
  },
  {
   "cell_type": "code",
   "execution_count": 18,
   "id": "f822ef3b",
   "metadata": {},
   "outputs": [],
   "source": [
    "#[문제 풀기]\n"
   ]
  },
  {
   "cell_type": "raw",
   "id": "5d3412ff",
   "metadata": {},
   "source": [
    "[문제 21] 다음 리스트에 있는 문자열을 결합하시오.\n",
    "\n",
    "[‘red’, ‘blue’, ‘green’, ‘yellow’]\n",
    "\n",
    "(참조) ' '.join(리스트명)"
   ]
  },
  {
   "cell_type": "code",
   "execution_count": 19,
   "id": "7426ed40",
   "metadata": {},
   "outputs": [],
   "source": [
    "#[문제 풀기]\n"
   ]
  }
 ],
 "metadata": {
  "kernelspec": {
   "display_name": "Python 3 (ipykernel)",
   "language": "python",
   "name": "python3"
  },
  "language_info": {
   "codemirror_mode": {
    "name": "ipython",
    "version": 3
   },
   "file_extension": ".py",
   "mimetype": "text/x-python",
   "name": "python",
   "nbconvert_exporter": "python",
   "pygments_lexer": "ipython3",
   "version": "3.10.6"
  }
 },
 "nbformat": 4,
 "nbformat_minor": 5
}
