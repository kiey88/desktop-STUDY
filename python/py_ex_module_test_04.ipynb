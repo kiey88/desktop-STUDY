{
 "cells": [
  {
   "cell_type": "raw",
   "id": "8c3fdb1e",
   "metadata": {},
   "source": [
    "[ 모듈 만들기 ]\n",
    "  ▶ 파이썬의 .py 파일 자체가 모듈\n",
    "  ▶ 파일에는 필요한 함수(def)를 저장\n",
    "  ▶ import문을 사용하여 해당 모듈을 불러옴"
   ]
  },
  {
   "cell_type": "raw",
   "id": "b40f20da",
   "metadata": {},
   "source": [
    "[ 사용 예 ]\n",
    "\n",
    "파일명 : modex.py\n",
    "   def mul(num) :\n",
    "      return num*num\n",
    "\n",
    "작업 창\n",
    "   import modex\n",
    "   \n",
    "   print(“Input digit : ”)\n",
    "   num = int(input())\n",
    "   res = modex.mul(num)\n",
    "   print(res)"
   ]
  },
  {
   "cell_type": "code",
   "execution_count": null,
   "id": "ff157247",
   "metadata": {},
   "outputs": [],
   "source": [
    "# 메모장을 이용하여 다음 프로그램을 저장 (파일명 : modex.py)\n",
    "\n",
    "def mul(num) :\n",
    "    return num*num"
   ]
  },
  {
   "cell_type": "code",
   "execution_count": 1,
   "id": "64ce2ee6",
   "metadata": {},
   "outputs": [
    {
     "name": "stdout",
     "output_type": "stream",
     "text": [
      "Input digit : \n",
      "4\n"
     ]
    }
   ],
   "source": [
    "import modex\n",
    "\n",
    "print(\"Input digit : \")\n",
    "num = int(input())\n",
    "res = modex.mul(num)\n",
    "print(res)"
   ]
  },
  {
   "cell_type": "raw",
   "id": "0856564b",
   "metadata": {},
   "source": [
    "(확인) import문을 다음과 같이 변경하여 보시오.\n",
    "   ① import modex as mn\n",
    "   ② from modex import mul\n",
    "   ③ from modex import *"
   ]
  },
  {
   "cell_type": "code",
   "execution_count": 2,
   "id": "f75c86d8",
   "metadata": {},
   "outputs": [
    {
     "name": "stdout",
     "output_type": "stream",
     "text": [
      "Input digit : \n",
      "4\n"
     ]
    }
   ],
   "source": [
    "# ① import modex as mn 사용\n",
    "\n",
    "import modex as mn\n",
    "   \n",
    "print(\"Input digit : \")\n",
    "num = int(input())\n",
    "res = modex.mul(num)\n",
    "print(res)"
   ]
  },
  {
   "cell_type": "code",
   "execution_count": 7,
   "id": "bc006feb",
   "metadata": {},
   "outputs": [],
   "source": [
    "# ② from modex import mul 사용\n",
    "\n",
    "from modex import mul\n",
    "   \n",
    "print(\"Input digit : \")\n",
    "num = int(input())\n",
    "res = modex.mul(num)\n",
    "print(res)"
   ]
  },
  {
   "cell_type": "code",
   "execution_count": 8,
   "id": "66366325",
   "metadata": {},
   "outputs": [],
   "source": [
    "# ③ from modex import * 사용\n",
    "\n",
    "from modex import *\n",
    "   \n",
    "print(\"Input digit : \")\n",
    "num = int(input())\n",
    "res = modex.mul(num)\n",
    "print(res)"
   ]
  },
  {
   "cell_type": "raw",
   "id": "b00d8000",
   "metadata": {},
   "source": [
    "[문제 1] 짝수와 홀수를 구별하는 프로그램을 작성하시오.\n",
    "  ▶ 짝수와 홀수를 구별하기 위한 모듈 작성 (모듈명 : oper.py)\n",
    "  ▶ 수치는 키보드로부터 입력을 받는다."
   ]
  },
  {
   "cell_type": "code",
   "execution_count": null,
   "id": "ec33880c",
   "metadata": {},
   "outputs": [],
   "source": [
    "# 문제 1 - 풀이 : 모듈명 : oper.py\n",
    "\n",
    "def evenodd(num) :\n",
    "    if num%2 == 0 :\n",
    "        print(\"짝수\")\n",
    "    else : \n",
    "        print(\"홀수\")"
   ]
  },
  {
   "cell_type": "code",
   "execution_count": 5,
   "id": "2786be5d",
   "metadata": {},
   "outputs": [],
   "source": [
    "# 문제 1 - 풀이 : 실행\n",
    "\n",
    "import oper\n",
    "\n",
    "print(\"Input digit : \")\n",
    "number = int(input())\n",
    "oper.evenodd(number)"
   ]
  },
  {
   "cell_type": "raw",
   "id": "344198fc",
   "metadata": {},
   "source": [
    "[문제 2] 다음 덧셈과 뺄셈을 구하는 프로그램의 실행을 위한 모듈을 작성하시오.\n",
    "  ▶ 모듈명 : op.py"
   ]
  },
  {
   "cell_type": "code",
   "execution_count": 2,
   "id": "129e0f93",
   "metadata": {},
   "outputs": [],
   "source": [
    "print(\"Input digit 1 : \")\n",
    "number1 = int(input())\n",
    "print(\"Input digit 2 : \")\n",
    "number2 = int(input())\n",
    "\n",
    "res = modop.add(number1, number2)\n",
    "print(\"덧셈 : \", res)\n",
    "print(\"뺄셈 : \", modop.sub(number1, number2))"
   ]
  },
  {
   "cell_type": "raw",
   "id": "de8952e0",
   "metadata": {},
   "source": [
    "[문제 3] 1에서 입력받은 수치까지의 합을 구하는 프로그램을 작성하시오.\n",
    "  ▶ 모듈명 : nsum.py"
   ]
  },
  {
   "cell_type": "code",
   "execution_count": null,
   "id": "c5ca59f7",
   "metadata": {},
   "outputs": [],
   "source": [
    "# [문제 3] 풀이"
   ]
  }
 ],
 "metadata": {
  "kernelspec": {
   "display_name": "Python 3 (ipykernel)",
   "language": "python",
   "name": "python3"
  },
  "language_info": {
   "codemirror_mode": {
    "name": "ipython",
    "version": 3
   },
   "file_extension": ".py",
   "mimetype": "text/x-python",
   "name": "python",
   "nbconvert_exporter": "python",
   "pygments_lexer": "ipython3",
   "version": "3.11.3"
  }
 },
 "nbformat": 4,
 "nbformat_minor": 5
}
