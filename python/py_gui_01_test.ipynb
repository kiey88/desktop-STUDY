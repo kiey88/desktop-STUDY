{
 "cells": [
  {
   "cell_type": "markdown",
   "id": "94368f1f",
   "metadata": {},
   "source": [
    "# GUI 생성하기\n",
    "\n",
    "[ 기본 형식 ]\n",
    "  ▷ import \tfrom tkinter import *\n",
    "  ▷ 창 생성\twin = Tk()\n",
    "  ▷ 창 크기 \twin.geometry(“200x200”)\n",
    "     ( 코드 작성 ------------------------------------- )\n",
    "  ▷ 창 실행 \twin.mainloop()"
   ]
  },
  {
   "cell_type": "raw",
   "id": "e6027302",
   "metadata": {},
   "source": [
    "[문제 1] 크기가 가로 450, 세로 300인 창을 생성하시오."
   ]
  },
  {
   "cell_type": "code",
   "execution_count": 2,
   "id": "dd5e99f8",
   "metadata": {},
   "outputs": [],
   "source": [
    "#[문제 1 - 풀이]\n"
   ]
  },
  {
   "cell_type": "raw",
   "id": "4d1c1fc6",
   "metadata": {},
   "source": [
    "[문제 2] 크기가 가로 450, 세로 300, 타이틀이 \"GUI연습\", 바탕색은 파랑인 창을 생성하시오.\n",
    "\n",
    "(참조) 타이틀 생성 : win.title(\"GUI연습\")\n",
    "       바탕색 적용 : win.config(bg=\"#0000FF\") "
   ]
  },
  {
   "cell_type": "code",
   "execution_count": 14,
   "id": "895585ce",
   "metadata": {},
   "outputs": [],
   "source": [
    "#[문제 2 - 풀이]\n"
   ]
  },
  {
   "cell_type": "raw",
   "id": "4f72cecf",
   "metadata": {},
   "source": [
    "#[실습 예제 1 - 라벨생성_1]\n",
    "\n",
    "from tkinter import *\n",
    "\n",
    "win=Tk()\n",
    "win.geometry (\"500x300\")\n",
    "win.title(\"GUI 연습\")\n",
    "\n",
    "lbl = Label(win)\n",
    "lbl.config(text=\"hello\")\n",
    "lbl.place(x=50, y=50, height=50, width=100)\n",
    "    # x y : 컴포넌트 생성 위치     height width : 컴포넌트 크기\n",
    "\n",
    "win.mainloop()"
   ]
  },
  {
   "cell_type": "code",
   "execution_count": null,
   "id": "3e276ef0",
   "metadata": {},
   "outputs": [],
   "source": [
    "#[실습 예제 1 - 라벨생성_1]\n"
   ]
  },
  {
   "cell_type": "raw",
   "id": "e522ea3b",
   "metadata": {},
   "source": [
    "#[실습 예제 1 - 라벨생성_2]\n",
    "\n",
    "from tkinter import *\n",
    "\n",
    "win=Tk()\n",
    "win.geometry (\"500x300\")\n",
    "win.title(\"연습\")\n",
    "\n",
    "lbl = Label(win)\n",
    "lbl.config(text=\"hello\", font = ('',20,''), fg=\"red\", relief=\"ridge\")\n",
    "    # font : 글자체    fg : 글자색    relief : 테두리\n",
    "lbl.place(x=50, y=50, height=50, width=100)\n",
    "    # x y : 컴포넌트 생성 위치     height width : 컴포넌트 크기\n",
    "\n",
    "win.mainloop()"
   ]
  },
  {
   "cell_type": "code",
   "execution_count": null,
   "id": "cc00c132",
   "metadata": {},
   "outputs": [],
   "source": [
    "#[실습 예제 1 - 라벨생성_2]\n"
   ]
  },
  {
   "cell_type": "raw",
   "id": "c29e790b",
   "metadata": {},
   "source": [
    "[문제 3] 다음 조건에 맞는 프로그램을 작성하시오.(Tkinter 사용)\n",
    "\n",
    "(조건) 3개의 Label 생성\n",
    "       Label 1 : 바탕색(적색) text(적색)\n",
    "       Label 2 : 바탕색(녹색) text(녹색) 테두리(ridge)\n",
    "       Label 3 : 바탕색(청색) text(청색)"
   ]
  },
  {
   "cell_type": "code",
   "execution_count": 18,
   "id": "cb297488",
   "metadata": {},
   "outputs": [],
   "source": [
    "#[문제 3 - 풀이]\n"
   ]
  },
  {
   "cell_type": "raw",
   "id": "13c09e51",
   "metadata": {},
   "source": [
    "#[실습 예제 2 - Button 생성]\n",
    "\n",
    "from tkinter import *\n",
    "\n",
    "win=Tk()\n",
    "win.geometry (\"500x300\")\n",
    "\n",
    "btn = Button(win, text=\"hello\")\n",
    "btn.place(x=50, y=50, height=50, width=100)\n",
    "\n",
    "win.mainloop()"
   ]
  },
  {
   "cell_type": "code",
   "execution_count": null,
   "id": "94dde460",
   "metadata": {},
   "outputs": [],
   "source": [
    "#[실습 예제 2 - Button 생성]\n"
   ]
  },
  {
   "cell_type": "raw",
   "id": "42587511",
   "metadata": {},
   "source": [
    "#[실습 예제 3]  다음 프로그램의 결과를 확인하세요...\n",
    "\n",
    "from tkinter import *\n",
    "\n",
    "win=Tk()\n",
    "win.geometry (\"500x300\")\n",
    "\n",
    "def hello_print() :\n",
    "    lbl.config(text=\"안녕하세요!\")\n",
    "\n",
    "btn = Button(win, text=\"hello\", command=hello_print)  # command : 함수호출로 사용\n",
    "btn.place(x=50, y=50, height=50, width=100)\n",
    "\n",
    "lbl = Label(win, text=\"?\")\n",
    "lbl.place(x=180, y=50, height=50, width=100)\n",
    "\n",
    "win.mainloop()"
   ]
  },
  {
   "cell_type": "code",
   "execution_count": 4,
   "id": "258f1f48",
   "metadata": {},
   "outputs": [],
   "source": [
    "#[실습 예제 3]\n"
   ]
  },
  {
   "cell_type": "raw",
   "id": "bc5102d4",
   "metadata": {},
   "source": [
    "[문제 4] 다음 로또 발생기를 다음 조건에 맞게 작성하시오.\n",
    "\n",
    "(조건) 1개의 Button / 1개의 Label 생성\n",
    "       버튼을 클릭하면 Label에 수치 1~45중에 6개를 중복없이 6개를 출력"
   ]
  },
  {
   "cell_type": "code",
   "execution_count": 9,
   "id": "aaa3f694",
   "metadata": {},
   "outputs": [],
   "source": [
    "#[문제 4 - 풀이]\n"
   ]
  },
  {
   "cell_type": "raw",
   "id": "19996168",
   "metadata": {},
   "source": [
    "[참조] global(전역변수 선언) 사용 \n",
    "\n",
    "[ 확인 1 ] 출력결과 확인\n",
    "x = 10\n",
    "def op():\n",
    "    x = 20\n",
    "    print(\"op : \", x)\n",
    "\n",
    "op()\n",
    "print(\"main : \", x)\n",
    "\n",
    "[ 확인 2 ] 출력결과 확인\n",
    "x = 10\n",
    "def op():\n",
    "    global x\n",
    "    x = 20\n",
    "    print(\"op : \", x)\n",
    "\n",
    "op()\n",
    "print(\"main : \", x)"
   ]
  },
  {
   "cell_type": "code",
   "execution_count": null,
   "id": "49a1b834",
   "metadata": {},
   "outputs": [],
   "source": [
    "# [참조 - 확인1] global 미사용\n",
    "\n"
   ]
  },
  {
   "cell_type": "code",
   "execution_count": null,
   "id": "d62bbdbe",
   "metadata": {},
   "outputs": [],
   "source": [
    "# [참조 - 확인2] global 사용\n"
   ]
  },
  {
   "cell_type": "raw",
   "id": "33d5be72",
   "metadata": {},
   "source": [
    "[문제 5] 다음 조건에 맞는 프로그램을 작성하시오.\n",
    "\n",
    "(조건) 1개의 Button 생성\n",
    "       버튼을 클릭할 때마다 다음과 같이 Button 글자 변환\n",
    "       Python -> HTML -> Python -> HTML -> ....................."
   ]
  },
  {
   "cell_type": "code",
   "execution_count": 7,
   "id": "05c90ef7",
   "metadata": {},
   "outputs": [],
   "source": [
    "#[문제 5 - 풀이]\n"
   ]
  },
  {
   "cell_type": "raw",
   "id": "5f01d86f",
   "metadata": {},
   "source": [
    "[문제 6] 다음 조건에 맞는 프로그램 작성\n",
    "\n",
    "(조건) 2개의 Button / 1개의 Label 생성\n",
    "       Button의 text를 각각 'UP' 'DOWN'으로 표시\n",
    "       Label의 초기 text는 '0'으로 표시\n",
    "       Button(UP) : 버튼을 클릭하면 1씩 증가 \n",
    "       Button(DOWN) : 버튼을 클릭하면 1씩 감소"
   ]
  },
  {
   "cell_type": "code",
   "execution_count": 4,
   "id": "67df1e07",
   "metadata": {},
   "outputs": [],
   "source": [
    "#[문제 6 - 풀이]\n"
   ]
  },
  {
   "cell_type": "raw",
   "id": "7446fe02",
   "metadata": {},
   "source": [
    "[문제 7] 다음 조건에 맞는 프로그램을 작성하시오.\n",
    "\n",
    "(조건) 2개의 Button / 1개의 Label 생성\n",
    "       Button1 : 버튼을 클릭하면 Label에 \"Python\" 문자열 출력\n",
    "       Button2 : 버튼을 클릭하면 Label에 \"HTML\" 문자열 출력"
   ]
  },
  {
   "cell_type": "code",
   "execution_count": 2,
   "id": "14e227e1",
   "metadata": {},
   "outputs": [],
   "source": [
    "#[문제 7 - 풀이]\n"
   ]
  }
 ],
 "metadata": {
  "kernelspec": {
   "display_name": "Python 3 (ipykernel)",
   "language": "python",
   "name": "python3"
  },
  "language_info": {
   "codemirror_mode": {
    "name": "ipython",
    "version": 3
   },
   "file_extension": ".py",
   "mimetype": "text/x-python",
   "name": "python",
   "nbconvert_exporter": "python",
   "pygments_lexer": "ipython3",
   "version": "3.10.6"
  }
 },
 "nbformat": 4,
 "nbformat_minor": 5
}
