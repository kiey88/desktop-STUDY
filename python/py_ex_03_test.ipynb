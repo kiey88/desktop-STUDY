{
 "cells": [
  {
   "cell_type": "markdown",
   "id": "d505c525",
   "metadata": {},
   "source": [
    "# def - 함수호출\n",
    "\n",
    "\n",
    "(정의) 코드 블록을 만들어 필요 할 때마다 불러서 사용하는 기능\n",
    "\n",
    "\n",
    "(형식) \n",
    "def functionName(매개변수):  #함수\n",
    "    # 함수가 실행하는 코드 내용 작성\n",
    "    \n",
    "functionName(인자) # 함수호출\n",
    "\n",
    "\n",
    "(사용 예)\n",
    "def myfunction():\n",
    "    print(\"Hello World\")   \n",
    "\n",
    "myfunction()\n",
    "\n",
    "\n",
    "(함수 호출 종류)\n",
    "\n",
    "  ▶ (형식 1) 매개변수(X) - return(X)\n",
    "      def functionName() :\n",
    "           print(\"100\")\n",
    "           \n",
    "      functionName()\n",
    "      \n",
    "  ▶ (형식 2) 매개변수(X) - return(O)\n",
    "      def functionName() :\n",
    "           return 100\n",
    "           \n",
    "      digit = functionName()\n",
    "      print(digit)\n",
    "      \n",
    "  ▶ (형식 3) 매개변수(O) - return(X)\n",
    "      def functionName(num) :\n",
    "           print(num)\n",
    "           \n",
    "      functionName(100)\n",
    "      \n",
    "  ▶ (형식 4) 매개변수(O) - return(O)\n",
    "      def functionName(num) :\n",
    "           return (num + num)\n",
    "      \n",
    "      digit = functionName(100)\n",
    "      print(digit)"
   ]
  },
  {
   "cell_type": "raw",
   "id": "fc2a4eb3",
   "metadata": {},
   "source": [
    "[문제 1] 다음 수치 12과 3을 변수 number1, number2에 각각 대입 후 함수 호출을 이용하여 합을 구하는 프로그램을 작성하시오.\n",
    "  ① 매개변수(X) / return(X) 형식으로 작성\n",
    "  ② 매개변수(X) / return(O) 형식으로 작성\n",
    "  ③ 매개변수(O) / return(X) 형식으로 작성\n",
    "  ④ 매개변수(O) / return(O) 형식으로 작성"
   ]
  },
  {
   "cell_type": "raw",
   "id": "c5d1b3b5",
   "metadata": {},
   "source": [
    "# [문제1 풀이 ①] 매개변수(X) / return(X) 형식으로 작성\n",
    "\n",
    "number1 = 12\n",
    "number2 = 3\n",
    "\n",
    "def operation() :\n",
    "    print(\"합 : \", number1 + number2)\n",
    "\n",
    "operation()"
   ]
  },
  {
   "cell_type": "code",
   "execution_count": 1,
   "id": "d9d44b2a",
   "metadata": {},
   "outputs": [
    {
     "name": "stdout",
     "output_type": "stream",
     "text": [
      "덧셈 :  15\n"
     ]
    }
   ],
   "source": [
    "# [문제1 풀이 ②] 매개변수(X) / return(O) 형식으로 작성\n",
    "number1 = 12\n",
    "number2 = 3\n",
    "def operation() :\n",
    "    return(number1 + number2)\n",
    "add = operation()\n",
    "print(\"덧셈 : \",add)"
   ]
  },
  {
   "cell_type": "code",
   "execution_count": 5,
   "id": "316acaa8",
   "metadata": {},
   "outputs": [
    {
     "name": "stdout",
     "output_type": "stream",
     "text": [
      "합 :  15\n"
     ]
    }
   ],
   "source": [
    "# [문제1 풀이 ③] 매개변수(O) / return(x) 형식으로 작성\n",
    "# [참조] \n",
    "# def functionName(매개변수1, 매개변수2) :\n",
    "#      함수가 실행하는 코드 내용 작성\n",
    "# functionName(인자1, 인자2)\n",
    "number1 = 12\n",
    "number2 = 3\n",
    "def operation(no1,no2):\n",
    "    print(\"합 : \",no1 + no2) \n",
    "operation(number1,number2)\n",
    "\n"
   ]
  },
  {
   "cell_type": "code",
   "execution_count": 6,
   "id": "0c9a63d0",
   "metadata": {},
   "outputs": [
    {
     "name": "stdout",
     "output_type": "stream",
     "text": [
      "덧셈 :  15\n"
     ]
    }
   ],
   "source": [
    "# [문제1 풀이 ④] 매개변수(O) / return(O) 형식으로 작성\n",
    "number1 = 12\n",
    "number2 = 3\n",
    "def operation(no1,no2) :\n",
    "    return no1 + no2\n",
    "add = operation(number1,number2)\n",
    "print(\"덧셈 : \",add)"
   ]
  },
  {
   "cell_type": "raw",
   "id": "741361ff",
   "metadata": {},
   "source": [
    "[문제 2] 두개의 임의의 수치를 입력받아 큰수를 판별하는 프로그램을 작성하시오.\n",
    "  ① 매개변수(X) / return(X) 형식으로 작성\n",
    "  ② 매개변수(X) / return(O) 형식으로 작성\n",
    "  ③ 매개변수(O) / return(X) 형식으로 작성\n",
    "  ④ 매개변수(O) / return(O) 형식으로 작성"
   ]
  },
  {
   "cell_type": "code",
   "execution_count": 7,
   "id": "f524fc87",
   "metadata": {},
   "outputs": [
    {
     "name": "stdout",
     "output_type": "stream",
     "text": [
      "입력수치 1 : \n",
      "입력수치 2 : \n",
      "큰수 :  3\n"
     ]
    }
   ],
   "source": [
    "# [문제2 풀이 ①] 매개변수(X) / return(X) 형식으로 작성\n",
    "def operation():\n",
    "    print(\"입력수치 1 : \")\n",
    "    number1 = int(input())\n",
    "    print(\"입력수치 2 : \")\n",
    "    number2 = int(input())\n",
    "\n",
    "    if(number1 > number2):\n",
    "        print(\"큰수 : \",number1)\n",
    "    else :\n",
    "        print(\"큰수 : \",number2)\n",
    "operation()"
   ]
  },
  {
   "cell_type": "code",
   "execution_count": 8,
   "id": "2ca528e4",
   "metadata": {},
   "outputs": [
    {
     "name": "stdout",
     "output_type": "stream",
     "text": [
      "입력수치 1 : \n",
      "입력수치 2 : \n",
      "큰수 :  3\n"
     ]
    }
   ],
   "source": [
    "# [문제2 풀이 ②] 매개변수(X) / return(O) 형식으로 작성\n",
    "def operation():\n",
    "    print(\"입력수치 1 : \")\n",
    "    number1 = int(input())\n",
    "    print(\"입력수치 2 : \")\n",
    "    number2 = int(input())\n",
    "    if(number1 > number2):\n",
    "        return number1\n",
    "    else :\n",
    "        return number2\n",
    "maxDigit = operation()\n",
    "print(\"큰수 : \",maxDigit)"
   ]
  },
  {
   "cell_type": "code",
   "execution_count": 10,
   "id": "d2a2d288",
   "metadata": {},
   "outputs": [
    {
     "name": "stdout",
     "output_type": "stream",
     "text": [
      "입력수치 1 : \n",
      "입력수치 2 : \n",
      "큰수 :  3\n"
     ]
    }
   ],
   "source": [
    "# [문제2 풀이 ③] 매개변수(O) / return(x) 형식으로 작성\n",
    "def operation(no1, no2) :\n",
    "    if(no1 > no2) :\n",
    "        print(\"큰수 : \", no1)\n",
    "    else : \n",
    "        print(\"큰수 : \", no2)\n",
    "\n",
    "print(\"입력수치 1 : \")\n",
    "number1 = int(input())\n",
    "print(\"입력수치 2 : \")\n",
    "number2 = int(input())\n",
    "operation(number1, number2)"
   ]
  },
  {
   "cell_type": "code",
   "execution_count": 11,
   "id": "ce51085d",
   "metadata": {},
   "outputs": [
    {
     "name": "stdout",
     "output_type": "stream",
     "text": [
      "입력수치 1 : \n",
      "입력수치 2 : \n",
      "큰수 :  3\n"
     ]
    }
   ],
   "source": [
    "# [문제2 풀이 ④] 매개변수(O) / return(O) 형식으로 작성\n",
    "def operation(no1, no2) :\n",
    "    if(no1 > no2) :\n",
    "        return no1\n",
    "    else : \n",
    "        return no2\n",
    "\n",
    "print(\"입력수치 1 : \")\n",
    "number1 = int(input())\n",
    "print(\"입력수치 2 : \")\n",
    "number2 = int(input())\n",
    "\n",
    "maxDigit = operation(number1, number2)\n",
    "print(\"큰수 : \", maxDigit)"
   ]
  },
  {
   "cell_type": "raw",
   "id": "ddf61fc2",
   "metadata": {},
   "source": [
    "[검토 1] 다음 프로그램의 결과를 확인하시오.\n",
    "\n",
    "[ 확인 1 ]\n",
    "   def func(*argc) :\n",
    "      print(argc)\n",
    "\n",
    "   func('python', 'java', 'android')\n",
    "\n",
    "[ 확인 2 ]\n",
    "   def func(**argc) :\n",
    "      print(argc)\n",
    "\n",
    "   func(one=1, two=2, three=3)"
   ]
  },
  {
   "cell_type": "code",
   "execution_count": 16,
   "id": "353a5457",
   "metadata": {},
   "outputs": [
    {
     "name": "stdout",
     "output_type": "stream",
     "text": [
      "('python', 'java', 'android')\n"
     ]
    }
   ],
   "source": [
    "#[검토1 - 확인1 결과 확인]\n",
    "def func(*argc) :\n",
    "        print(argc)\n",
    "\n",
    "func('python', 'java', 'android')\n",
    "\n",
    "# 주어진 코드는 파이썬에서 가변 인자를 사용하여 함수를 정의하고, 함수를 호출할 때 임의의 개수의 위치 인자를 전달하는 예시입니다.\n",
    "\n",
    "# func() 함수는 *argc와 같이 매개변수를 선언하여 가변 인자를 받습니다. 이는 함수 호출 시 전달되는 모든 위치 인자를 튜플로 받는 것을 의미합니다.\n",
    "\n",
    "# func('python', 'java', 'android')을 호출하면, 문자열 'python', 'java', 'android'이 argc 튜플에 전달됩니다.\n",
    "\n",
    "# 그 후, print(argc)를 통해 argc 튜플을 출력합니다.\n",
    "\n",
    "# 따라서 코드를 실행하면 콘솔에 ('python', 'java', 'android')이 출력될 것입니다. 전달된 위치 인자들이 튜플로 출력됩니다."
   ]
  },
  {
   "cell_type": "code",
   "execution_count": 17,
   "id": "9d7cc0ba",
   "metadata": {},
   "outputs": [
    {
     "name": "stdout",
     "output_type": "stream",
     "text": [
      "{'one': 1, 'two': 2, 'three': 3}\n"
     ]
    }
   ],
   "source": [
    "#[검토1 - 확인2 결과 확인]\n",
    "def func(**argc) :\n",
    "    print(argc)\n",
    "\n",
    "func(one=1, two=2, three=3)\n",
    "# 주어진 코드는 파이썬에서 키워드 인자를 사용하여 함수를 정의하고, 함수를 호출할 때 임의의 개수의 키워드 인자를 전달하는 예시입니다.\n",
    "\n",
    "# func() 함수는 **argc와 같이 매개변수를 선언하여 키워드 인자를 받습니다. 이는 함수 호출 시 전달되는 모든 키워드 인자를 딕셔너리로 받는 것을 의미합니다.\n",
    "\n",
    "# func(one=1, two=2, three=3)을 호출하면, 'one', 'two', 'three'이 키로 사용되고 각각의 값이 argc 딕셔너리에 전달됩니다.\n",
    "\n",
    "# 그 후, print(argc)를 통해 argc 딕셔너리를 출력합니다.\n",
    "\n",
    "# 따라서 코드를 실행하면 콘솔에 {'one': 1, 'two': 2, 'three': 3}이 출력될 것입니다. 전달된 키워드 인자들이 딕셔너리로 출력됩니다."
   ]
  },
  {
   "cell_type": "raw",
   "id": "635af40c",
   "metadata": {},
   "source": [
    "[검토 2] 다음 프로그램의 결과를 확인하시오.\n",
    "\n",
    "   def func(a=2, b=5, c=10) :\n",
    "   #def func(a, b=5, c=10) :\n",
    "   #def func(a=2, b, c) :   \n",
    "      sum = a + b + c\n",
    "      print(sum)\n",
    "   \n",
    "   func(1, 2, 3)\n",
    "   func(1, 2)\n",
    "   func(1)\n",
    "   func()"
   ]
  },
  {
   "cell_type": "code",
   "execution_count": 20,
   "id": "4fc9eed6",
   "metadata": {},
   "outputs": [
    {
     "name": "stdout",
     "output_type": "stream",
     "text": [
      "6\n",
      "13\n",
      "16\n",
      "17\n"
     ]
    }
   ],
   "source": [
    "#[검토2 - 확인 결과]\n",
    "\n",
    "def func(a=2, b=5, c=10) :\n",
    "    sum = a + b + c\n",
    "    print(sum)\n",
    "\n",
    "func(1, 2, 3)\n",
    "func(1, 2)\n",
    "func(1)\n",
    "func()"
   ]
  },
  {
   "cell_type": "code",
   "execution_count": 21,
   "id": "a4c8215c",
   "metadata": {},
   "outputs": [
    {
     "name": "stdout",
     "output_type": "stream",
     "text": [
      "6\n",
      "13\n",
      "16\n"
     ]
    },
    {
     "ename": "TypeError",
     "evalue": "func() missing 1 required positional argument: 'a'",
     "output_type": "error",
     "traceback": [
      "\u001b[1;31m---------------------------------------------------------------------------\u001b[0m",
      "\u001b[1;31mTypeError\u001b[0m                                 Traceback (most recent call last)",
      "Cell \u001b[1;32mIn[21], line 12\u001b[0m\n\u001b[0;32m     10\u001b[0m func(\u001b[39m1\u001b[39m, \u001b[39m2\u001b[39m)\n\u001b[0;32m     11\u001b[0m func(\u001b[39m1\u001b[39m)\n\u001b[1;32m---> 12\u001b[0m func()\n",
      "\u001b[1;31mTypeError\u001b[0m: func() missing 1 required positional argument: 'a'"
     ]
    }
   ],
   "source": [
    "#[검토2 - 확인 결과]\n",
    "\n",
    "\n",
    "def func(a, b=5, c=10) :\n",
    "\n",
    "    sum = a + b + c\n",
    "    print(sum)\n",
    "\n",
    "func(1, 2, 3)\n",
    "func(1, 2)\n",
    "func(1)\n",
    "func()"
   ]
  },
  {
   "cell_type": "code",
   "execution_count": 24,
   "id": "ffb22fbb",
   "metadata": {},
   "outputs": [
    {
     "ename": "SyntaxError",
     "evalue": "non-default argument follows default argument (3075456239.py, line 3)",
     "output_type": "error",
     "traceback": [
      "\u001b[1;36m  Cell \u001b[1;32mIn[24], line 3\u001b[1;36m\u001b[0m\n\u001b[1;33m    def func(a=2, b, c) :\u001b[0m\n\u001b[1;37m                  ^\u001b[0m\n\u001b[1;31mSyntaxError\u001b[0m\u001b[1;31m:\u001b[0m non-default argument follows default argument\n"
     ]
    }
   ],
   "source": [
    "#[검토2 - 확인 결과]\n",
    "\n",
    "def func(a=2, b, c) :   \n",
    "    sum = a + b + c\n",
    "    print(sum)\n",
    "\n",
    "func(1, 2, 3)\n",
    "func(1, 2)\n",
    "func(1)\n",
    "func()\n",
    "\n",
    "# 주어진 코드에는 SyntaxError가 발생한 이유가 나와 있습니다. 해당 오류는 기본값이 있는 매개변수 뒤에 기본값이 없는 매개변수가 오는 경우에 발생합니다. 파이썬에서는 매개변수 선언 시 기본값이 있는 매개변수가 없는 매개변수보다 항상 뒤에 위치해야 합니다.\n",
    "\n",
    "# 즉, 함수 정의에서 a=2와 같이 기본값이 있는 매개변수가 먼저 선언되어야 하고, 그 후에 기본값이 없는 매개변수인 b와 c를 선언해야 합니다.\n",
    "\n",
    "# 올바르게 수정된 코드는 다음과 같습니다:\n",
    "# def func(b, c, a=2):\n",
    "#     sum = a + b + c\n",
    "#     print(sum)\n",
    "\n",
    "# func(1, 2, 3)\n",
    "# func(1, 2)\n",
    "# func(1)\n",
    "# func()\n",
    "# 위 코드에서는 a=2와 같이 기본값이 있는 매개변수를 맨 뒤로 이동시킵니다. 이렇게 수정하면 SyntaxError가 해결되고 코드가 정상적으로 실행될 것입니다.\n"
   ]
  }
 ],
 "metadata": {
  "kernelspec": {
   "display_name": "Python 3 (ipykernel)",
   "language": "python",
   "name": "python3"
  },
  "language_info": {
   "codemirror_mode": {
    "name": "ipython",
    "version": 3
   },
   "file_extension": ".py",
   "mimetype": "text/x-python",
   "name": "python",
   "nbconvert_exporter": "python",
   "pygments_lexer": "ipython3",
   "version": "3.11.3"
  }
 },
 "nbformat": 4,
 "nbformat_minor": 5
}
