{
 "cells": [
  {
   "cell_type": "markdown",
   "id": "d505c525",
   "metadata": {},
   "source": [
    "# def - 함수호출\n",
    "\n",
    "\n",
    "(정의) 코드 블록을 만들어 필요 할 때마다 불러서 사용하는 기능\n",
    "\n",
    "\n",
    "(형식) \n",
    "def functionName(매개변수):  #함수\n",
    "    # 함수가 실행하는 코드 내용 작성\n",
    "    \n",
    "functionName(인자) # 함수호출\n",
    "\n",
    "\n",
    "(사용 예)\n",
    "def myfunction():\n",
    "    print(\"Hello World\")   \n",
    "\n",
    "myfunction()\n",
    "\n",
    "\n",
    "(함수 호출 종류)\n",
    "\n",
    "  ▶ (형식 1) 매개변수(X) - return(X)\n",
    "      def functionName() :\n",
    "           print(\"100\")\n",
    "           \n",
    "      functionName()\n",
    "      \n",
    "  ▶ (형식 2) 매개변수(X) - return(O)\n",
    "      def functionName() :\n",
    "           return 100\n",
    "           \n",
    "      digit = functionName()\n",
    "      print(digit)\n",
    "      \n",
    "  ▶ (형식 3) 매개변수(O) - return(X)\n",
    "      def functionName(num) :\n",
    "           print(num)\n",
    "           \n",
    "      functionName(100)\n",
    "      \n",
    "  ▶ (형식 4) 매개변수(O) - return(O)\n",
    "      def functionName(num) :\n",
    "           return (num + num)\n",
    "      \n",
    "      digit = functionName(100)\n",
    "      print(digit)"
   ]
  },
  {
   "cell_type": "raw",
   "id": "fc2a4eb3",
   "metadata": {},
   "source": [
    "[문제 1] 다음 수치 12과 3을 변수 number1, number2에 각각 대입 후 함수 호출을 이용하여 합을 구하는 프로그램을 작성하시오.\n",
    "  ① 매개변수(X) / return(X) 형식으로 작성\n",
    "  ② 매개변수(X) / return(O) 형식으로 작성\n",
    "  ③ 매개변수(O) / return(X) 형식으로 작성\n",
    "  ④ 매개변수(O) / return(O) 형식으로 작성"
   ]
  },
  {
   "cell_type": "raw",
   "id": "c5d1b3b5",
   "metadata": {},
   "source": [
    "# [문제1 풀이 ①] 매개변수(X) / return(X) 형식으로 작성\n",
    "\n",
    "number1 = 12\n",
    "number2 = 3\n",
    "\n",
    "def operation() :\n",
    "    print(\"합 : \", number1 + number2)\n",
    "\n",
    "operation()"
   ]
  },
  {
   "cell_type": "code",
   "execution_count": 35,
   "id": "d9d44b2a",
   "metadata": {},
   "outputs": [],
   "source": [
    "# [문제1 풀이 ②] 매개변수(X) / return(O) 형식으로 작성\n"
   ]
  },
  {
   "cell_type": "code",
   "execution_count": 34,
   "id": "316acaa8",
   "metadata": {},
   "outputs": [],
   "source": [
    "# [문제1 풀이 ③] 매개변수(O) / return(x) 형식으로 작성\n",
    "# [참조] \n",
    "# def functionName(매개변수1, 매개변수2) :\n",
    "#      함수가 실행하는 코드 내용 작성\n",
    "# functionName(인자1, 인자2)\n"
   ]
  },
  {
   "cell_type": "code",
   "execution_count": 36,
   "id": "0c9a63d0",
   "metadata": {},
   "outputs": [],
   "source": [
    "# [문제1 풀이 ④] 매개변수(O) / return(O) 형식으로 작성\n"
   ]
  },
  {
   "cell_type": "raw",
   "id": "741361ff",
   "metadata": {},
   "source": [
    "[문제 2] 두개의 임의의 수치를 입력받아 큰수를 판별하는 프로그램을 작성하시오.\n",
    "  ① 매개변수(X) / return(X) 형식으로 작성\n",
    "  ② 매개변수(X) / return(O) 형식으로 작성\n",
    "  ③ 매개변수(O) / return(X) 형식으로 작성\n",
    "  ④ 매개변수(O) / return(O) 형식으로 작성"
   ]
  },
  {
   "cell_type": "code",
   "execution_count": 37,
   "id": "f524fc87",
   "metadata": {},
   "outputs": [],
   "source": [
    "# [문제2 풀이 ①] 매개변수(X) / return(X) 형식으로 작성\n"
   ]
  },
  {
   "cell_type": "code",
   "execution_count": 38,
   "id": "2ca528e4",
   "metadata": {},
   "outputs": [],
   "source": [
    "# [문제2 풀이 ②] 매개변수(X) / return(O) 형식으로 작성\n"
   ]
  },
  {
   "cell_type": "code",
   "execution_count": 39,
   "id": "d2a2d288",
   "metadata": {},
   "outputs": [],
   "source": [
    "# [문제2 풀이 ③] 매개변수(O) / return(x) 형식으로 작성\n"
   ]
  },
  {
   "cell_type": "code",
   "execution_count": 40,
   "id": "ce51085d",
   "metadata": {},
   "outputs": [],
   "source": [
    "# [문제2 풀이 ④] 매개변수(O) / return(O) 형식으로 작성\n"
   ]
  },
  {
   "cell_type": "raw",
   "id": "ddf61fc2",
   "metadata": {},
   "source": [
    "[검토 1] 다음 프로그램의 결과를 확인하시오.\n",
    "\n",
    "[ 확인 1 ]\n",
    "   def func(*argc) :\n",
    "      print(argc)\n",
    "\n",
    "   func('python', 'java', 'android')\n",
    "\n",
    "[ 확인 2 ]\n",
    "   def func(**argc) :\n",
    "      print(argc)\n",
    "\n",
    "   func(one=1, two=2, three=3)"
   ]
  },
  {
   "cell_type": "code",
   "execution_count": null,
   "id": "353a5457",
   "metadata": {},
   "outputs": [],
   "source": [
    "#[검토1 - 확인1 결과 확인]\n"
   ]
  },
  {
   "cell_type": "code",
   "execution_count": null,
   "id": "9d7cc0ba",
   "metadata": {},
   "outputs": [],
   "source": [
    "#[검토1 - 확인2 결과 확인]\n"
   ]
  },
  {
   "cell_type": "raw",
   "id": "635af40c",
   "metadata": {},
   "source": [
    "[검토 2] 다음 프로그램의 결과를 확인하시오.\n",
    "\n",
    "   def func(a=2, b=5, c=10) :\n",
    "   #def func(a, b=5, c=10) :\n",
    "   #def func(a=2, b, c) :   \n",
    "      sum = a + b + c\n",
    "      print(sum)\n",
    "   \n",
    "   func(1, 2, 3)\n",
    "   func(1, 2)\n",
    "   func(1)\n",
    "   func()"
   ]
  },
  {
   "cell_type": "code",
   "execution_count": 22,
   "id": "4fc9eed6",
   "metadata": {},
   "outputs": [],
   "source": [
    "#[검토2 - 확인 결과]\n"
   ]
  }
 ],
 "metadata": {
  "kernelspec": {
   "display_name": "Python 3 (ipykernel)",
   "language": "python",
   "name": "python3"
  },
  "language_info": {
   "codemirror_mode": {
    "name": "ipython",
    "version": 3
   },
   "file_extension": ".py",
   "mimetype": "text/x-python",
   "name": "python",
   "nbconvert_exporter": "python",
   "pygments_lexer": "ipython3",
   "version": "3.10.6"
  }
 },
 "nbformat": 4,
 "nbformat_minor": 5
}
