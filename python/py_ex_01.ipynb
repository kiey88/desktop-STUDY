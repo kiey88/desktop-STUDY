{
 "cells": [
  {
   "cell_type": "raw",
   "id": "0c9963c1",
   "metadata": {},
   "source": [
    "[문제 1] 자신의 성명을 출력하시오.(print문 사용) \n",
    "         ※ print() : 출력함수"
   ]
  },
  {
   "cell_type": "code",
   "execution_count": null,
   "id": "6a271f03",
   "metadata": {},
   "outputs": [],
   "source": [
    "print(\"홍길동\")"
   ]
  },
  {
   "cell_type": "raw",
   "id": "929ad3bf",
   "metadata": {},
   "source": [
    "[문제 2] 자신의 성명, 전화번호, 주민번호를 출력하는 프로그램 작성(print문 사용)"
   ]
  },
  {
   "cell_type": "code",
   "execution_count": null,
   "id": "29794438",
   "metadata": {},
   "outputs": [],
   "source": [
    "print(\"성명 : 김지민\")\n",
    "print(\"전화번호 : 010-5670-4894\")\n",
    "print(\"주민번호 : 880301-1474523\")"
   ]
  },
  {
   "cell_type": "code",
   "execution_count": null,
   "id": "43ec9109",
   "metadata": {},
   "outputs": [],
   "source": [
    "print(\"김지민\", end=\" \")\n",
    "print(\"01056704894\", end=\" \")\n",
    "print(\"8803011474523\")"
   ]
  },
  {
   "cell_type": "raw",
   "id": "69495fc3",
   "metadata": {},
   "source": [
    "[문제 3] 숫자 7과 6을 변수 a, b에 대입하여 합을 출력하는 프로그램을 작성하시오.\n",
    "         ※ 변수 : 데이터의 값을 저장한 장소이름"
   ]
  },
  {
   "cell_type": "code",
   "execution_count": null,
   "id": "7dd685ef",
   "metadata": {},
   "outputs": [],
   "source": [
    "a = 7\n",
    "b = 6\n",
    "print(a+b)"
   ]
  },
  {
   "cell_type": "code",
   "execution_count": null,
   "id": "fe0b45b2",
   "metadata": {},
   "outputs": [],
   "source": [
    "a = 7\n",
    "b = 6\n",
    "print(\"a+b\")\n",
    "# \"문자열\""
   ]
  },
  {
   "cell_type": "code",
   "execution_count": null,
   "id": "f6759e30",
   "metadata": {},
   "outputs": [],
   "source": [
    "a = 7\n",
    "b = 6\n",
    "sum = a + b\n",
    "print(sum)"
   ]
  },
  {
   "cell_type": "raw",
   "id": "5b005cf0",
   "metadata": {},
   "source": [
    "[문제 4] 숫자 10과 5에 대한 사칙연산(+ - * /)의 결과를 출력하는 프로그램을 작성하시오.\n",
    "         (조건) 변수 사용"
   ]
  },
  {
   "cell_type": "code",
   "execution_count": null,
   "id": "83aa2406",
   "metadata": {},
   "outputs": [],
   "source": [
    "num1 = 10\n",
    "num2 = 5\n",
    "\n",
    "# 덧셈\n",
    "addition = num1 + num2\n",
    "print(\"덧셈 결과:\", addition)\n",
    "\n",
    "# 뺄셈\n",
    "subtraction = num1 - num2\n",
    "print(\"뺄셈 결과:\", subtraction)\n",
    "\n",
    "# 곱셈\n",
    "multiplication = num1 * num2\n",
    "print(\"곱셈 결과:\", multiplication)\n",
    "\n",
    "# 나눗셈\n",
    "division = num1 / num2\n",
    "print(\"나눗셈 결과:\", division)"
   ]
  },
  {
   "cell_type": "raw",
   "id": "f5a5409c",
   "metadata": {},
   "source": [
    "[참조 1] 10/3 10//3 10%3 의 차이점을 살펴보세요..."
   ]
  },
  {
   "cell_type": "code",
   "execution_count": null,
   "id": "1d132b4a",
   "metadata": {},
   "outputs": [],
   "source": [
    "print(10 / 3)\n",
    "print(10 // 3) #몫 구하기\n",
    "print(10 % 3) #나머지 구하기\n",
    "print(\"%1.2f\"%(10/3)) \n",
    "#print(\"%1.2f\"%(10/3))는 Python에서 실수를 형식화하여 출력하는 방법 중 하나입니다.\n",
    "#이 코드에서 %는 문자열 포맷 코드를 나타내는 기호입니다. 1.2f는 실수를 소수점 이하 두 자리까지 표시하는 형식을 나타냅니다.\n",
    "#10/3는 10을 3으로 나눈 결과인 3.3333333333333335를 의미합니다.\n",
    "#\"%1.2f\"와 %(10/3)를 함께 사용하여 실수를 형식화하고, 그 값을 문자열로 변환한 후에 print() 함수를 사용하여 출력합니다. \n",
    "#따라서 위의 코드는 3.33를 출력합니다."
   ]
  },
  {
   "cell_type": "raw",
   "id": "7e868098",
   "metadata": {},
   "source": [
    "[문제 5] 3의 5승을 구하는 프로그램을 작성하시오."
   ]
  },
  {
   "cell_type": "code",
   "execution_count": null,
   "id": "29459a63",
   "metadata": {},
   "outputs": [],
   "source": [
    "print(3**5)"
   ]
  },
  {
   "cell_type": "code",
   "execution_count": null,
   "id": "3dda8f23",
   "metadata": {},
   "outputs": [],
   "source": [
    "print(3*3*3*3*3)"
   ]
  },
  {
   "cell_type": "raw",
   "id": "3948b50d",
   "metadata": {},
   "source": [
    "[참조 2] 자료형 - 정수형, 실수형, 문자형\n",
    "  (정수형) a = 10\n",
    "  (실수형) b = 10.0\n",
    "  (문자형) c = \"10\"  연산 불가능"
   ]
  },
  {
   "cell_type": "raw",
   "id": "6051002c",
   "metadata": {},
   "source": [
    "[문제 6] 다음 제시한 결과값을 살펴보세요.\n",
    "    a = 10\n",
    "    b = 20.3\n",
    "    c = \"30\"\n",
    "    d = \"100\"\n",
    "    print(\"a+b=\", a + b)\n",
    "    print(\"b+c=\", b + c)\n",
    "    print(\"c+d=\", c + d)    "
   ]
  },
  {
   "cell_type": "code",
   "execution_count": null,
   "id": "5e1a40d6",
   "metadata": {},
   "outputs": [],
   "source": [
    "a = 10\n",
    "b = 20.3\n",
    "c = \"30\"\n",
    "d = \"100\"\n",
    "print(\"a+b=\", a + b)\n",
    "print(\"c+d=\", c + d)\n",
    "print(\"b+c=\", b + c)"
   ]
  },
  {
   "cell_type": "raw",
   "id": "c9f698a2",
   "metadata": {},
   "source": [
    "[참조 3] 자료형 변환\n",
    "1. (float)정수 -> 실수\n",
    "2. (int)실수 -> 정수\n",
    "3. (str)정수 또는 실수 -> 문자\n",
    "4. (int 또는 float)문자 -> 정수 또는 실수"
   ]
  },
  {
   "cell_type": "raw",
   "id": "0df5a5e4",
   "metadata": {},
   "source": [
    "[문제 7] a=10과 s=\"20\"을 +연산을하여 결과값 30이 출력되도록 하세요..\n",
    "          ※ 문자를 정수로 변환"
   ]
  },
  {
   "cell_type": "code",
   "execution_count": null,
   "id": "74b055d4",
   "metadata": {},
   "outputs": [],
   "source": [
    "a=10\n",
    "s=\"20\"\n",
    "add = a + int(s)\n",
    "print(add)\n",
    "print(10 + int(\"20\"))"
   ]
  },
  {
   "cell_type": "raw",
   "id": "db2cefc9",
   "metadata": {},
   "source": [
    "[문제 8] f=10.3을 10으로 출력하세요..\n",
    "          ※ 실수를 정수로 변환"
   ]
  },
  {
   "cell_type": "code",
   "execution_count": null,
   "id": "7ef7726b",
   "metadata": {},
   "outputs": [],
   "source": [
    "f=10.3\n",
    "print(int(f))"
   ]
  },
  {
   "cell_type": "raw",
   "id": "5ba4735b",
   "metadata": {},
   "source": [
    "[문제 9] 자신의 성명을 키보드로부터 입력받아 출력하는 프그램을 작성하시오.\n",
    "         ※ input() : 키보드로부터 데이터를 입력받는 함수"
   ]
  },
  {
   "cell_type": "code",
   "execution_count": null,
   "id": "d1f8be0c",
   "metadata": {},
   "outputs": [],
   "source": [
    "print(\"자신의 성명을 입력 :\", end=\"\")\n",
    "s = input()\n",
    "print(s)"
   ]
  },
  {
   "cell_type": "raw",
   "id": "cd1bcf31",
   "metadata": {},
   "source": [
    "[문제 10] 두개의 수치를 입력받아 합을 구하는 프로그램을 작성하시오."
   ]
  },
  {
   "cell_type": "code",
   "execution_count": null,
   "id": "490485c8",
   "metadata": {},
   "outputs": [],
   "source": [
    "print(\"수치입력(1)\", end=\"\")\n",
    "number1 = int(input())\n",
    "print(\"수치입력(2)\", end=\"\")\n",
    "number2= int(input())\n",
    "print(number1 + number2)"
   ]
  },
  {
   "cell_type": "raw",
   "id": "efa832f2",
   "metadata": {},
   "source": [
    "[문제 11] 세개의 수치를 입력받아 평균을 구하는 프로그램을 작성하시오."
   ]
  },
  {
   "cell_type": "code",
   "execution_count": null,
   "id": "19e64cb7",
   "metadata": {},
   "outputs": [],
   "source": [
    "print(\"수치입력(1)\", end=\"\")\n",
    "number1 = int(input())\n",
    "print(\"수치입력(2)\", end=\"\")\n",
    "number2= int(input())\n",
    "print(\"수치입력(3)\", end=\"\")\n",
    "number3 = int(input())\n",
    "average = (number1 + number2 + number3) / 3\n",
    "print(average)"
   ]
  },
  {
   "cell_type": "code",
   "execution_count": null,
   "id": "5ff13fa6",
   "metadata": {},
   "outputs": [],
   "source": [
    "print(\"수치입력(1)\", end=\"\")\n",
    "number1 = int(input())\n",
    "print(\"수치입력(2)\", end=\"\")\n",
    "number2= int(input())\n",
    "print(\"수치입력(3)\", end=\"\")\n",
    "number3 = int(input())\n",
    "print((number1 + number2 + number3) / 3)"
   ]
  },
  {
   "cell_type": "code",
   "execution_count": null,
   "id": "c88fb9cd",
   "metadata": {},
   "outputs": [],
   "source": [
    "number1 = float(input(\"첫 번째 수를 입력하세요: \"))\n",
    "number2 = float(input(\"두 번째 수를 입력하세요: \"))\n",
    "number3 = float(input(\"세 번째 수를 입력하세요: \"))\n",
    "\n",
    "average = (number1 + number2 + number3) / 3\n",
    "\n",
    "print(\"평균:\", average)"
   ]
  },
  {
   "cell_type": "raw",
   "id": "e0848ee3",
   "metadata": {},
   "source": [
    "[문제 12] 포도 한 알의 무게는 75g, 딸기 한 알의 무게는 113.5g일 때, 알의 개수와 딸기의 개수를 입력받아 총 무게를 계산하는 프로그램을 작성하시오."
   ]
  },
  {
   "cell_type": "code",
   "execution_count": null,
   "id": "343b465f",
   "metadata": {},
   "outputs": [],
   "source": [
    "number1 = float(input(\"포도알: \"))\n",
    "number2 = float(input(\"딸기: \"))\n",
    "sum = (number1*75)+(number2*113.5)\n",
    "\n",
    "print(f\"{sum}g\")"
   ]
  },
  {
   "cell_type": "raw",
   "id": "da755eca",
   "metadata": {},
   "source": [
    "[참조 4] 조건문 : 두개의 항을 비교(>, <, >=, <=, ==, !=)하여 참과 거짓을 구별\n",
    "\n",
    "1. (if)\n",
    "if [조건] :\n",
    "    [실행문] #조건이 참일때 실행\n",
    "    \n",
    "2. (if - else)\n",
    "if [조건] :\n",
    "    [실행문] # 조건이 참일때 실행\n",
    "else :\n",
    "    [실행문] # 조건이 거짓일때 실행\n",
    "    \n",
    "3. (if - elif - else)\n",
    "if [조건] :\n",
    "    [실행문]\n",
    "elif [조건] :\n",
    "    [실행문]\n",
    "else :\n",
    "    [실행문]\n",
    " "
   ]
  },
  {
   "cell_type": "raw",
   "id": "b028a278",
   "metadata": {},
   "source": [
    "[문제 13] 임의의 정수를 입력받아 90이상일때만 다음과 같이 출력이 되는 프로그램을 작성하시오.(if사용)\n",
    "\n",
    "[출력결과]\n",
    "성적 - A\n",
    "장학금 대상"
   ]
  },
  {
   "cell_type": "code",
   "execution_count": null,
   "id": "39de5443",
   "metadata": {},
   "outputs": [],
   "source": [
    "print(\"정수 입력 :\")\n",
    "num = int(input())\n",
    "if(num >= 90):\n",
    "    print(\"성적 - A\")\n",
    "    print(\"장학금 대상\")"
   ]
  },
  {
   "cell_type": "raw",
   "id": "53885601",
   "metadata": {},
   "source": [
    "[문제 14] 임의의 정수를 입력받아 70미만인 경우 불합격, 이상인 경우에는 합격을 출력하시오.(if-else사용)"
   ]
  },
  {
   "cell_type": "code",
   "execution_count": null,
   "id": "989f144a",
   "metadata": {},
   "outputs": [],
   "source": [
    "print(\"정수 입력 :\")\n",
    "num = int(input())\n",
    "if(num >= 70):\n",
    "    print(\"합격\")\n",
    "else:\n",
    "    print(\"불합격\")"
   ]
  },
  {
   "cell_type": "raw",
   "id": "46e8a7c7",
   "metadata": {},
   "source": [
    "[문제 15] 임의의 수치를 두개를 입력받아 큰수를 출력하시오.(if-else사용)"
   ]
  },
  {
   "cell_type": "code",
   "execution_count": null,
   "id": "28680203",
   "metadata": {},
   "outputs": [],
   "source": [
    "print(\"정수 입력 :\")\n",
    "num1 = int(input())\n",
    "print(\"정수 입력 :\")\n",
    "num2 = int(input())\n",
    "if(num1 > num2):\n",
    "    print(num1)\n",
    "else:\n",
    "    print(num2)"
   ]
  },
  {
   "cell_type": "raw",
   "id": "a38d4fd9",
   "metadata": {},
   "source": [
    "[문제 16] 임의의 수치를 입력받아 홀수, 짝수를 판별하시오.(if-else사용, if사용)"
   ]
  },
  {
   "cell_type": "code",
   "execution_count": null,
   "id": "74b5265b",
   "metadata": {},
   "outputs": [],
   "source": [
    "print(\"정수 입력 :\")\n",
    "num = int(input())\n",
    "if( num % 2 == 0):\n",
    "    print(\"짝\")\n",
    "else:\n",
    "    print(\"홀\")"
   ]
  },
  {
   "cell_type": "raw",
   "id": "1c87eb19",
   "metadata": {},
   "source": [
    "[문제 17] 임의의 수치를 입력받아 0, 양수, 음수를 판별하시오.(if-elif-else사용)"
   ]
  },
  {
   "cell_type": "code",
   "execution_count": null,
   "id": "392327c7",
   "metadata": {},
   "outputs": [],
   "source": [
    "print(\"정수 입력 :\")\n",
    "num = int(input())\n",
    "if( num == 0):\n",
    "    print(\"0\")\n",
    "elif( num > 0):\n",
    "    print(\"양수\")\n",
    "else:\n",
    "    print(\"음수\")"
   ]
  },
  {
   "cell_type": "code",
   "execution_count": null,
   "id": "5c159496",
   "metadata": {},
   "outputs": [],
   "source": [
    "print(\"정수 입력 :\")\n",
    "num = int(input())\n",
    "if( num == 0):\n",
    "    print(\"0\")\n",
    "if( num > 0):\n",
    "    print(\"양수\")\n",
    "if( num < 0):\n",
    "    print(\"음수\")"
   ]
  },
  {
   "cell_type": "raw",
   "id": "791a00c4",
   "metadata": {},
   "source": [
    "[문제 18] 임의의 수치 3개를 입력받아 가장 큰수를 출력하시오.(if-elif-else사용)"
   ]
  },
  {
   "cell_type": "code",
   "execution_count": null,
   "id": "38273eb8",
   "metadata": {},
   "outputs": [],
   "source": [
    "print(\"정수 입력 :\")\n",
    "num1 = int(input())\n",
    "num2 = int(input())\n",
    "num3 = int(input())\n",
    "if num1 >= num2 and num1 >= num3:\n",
    "    max_num = num1\n",
    "elif num2 >= num1 and num2 >= num3:\n",
    "    max_num = num2\n",
    "else:\n",
    "    max_num = num3\n",
    "\n",
    "print(\"가장 큰 수는\", max_num, \"입니다.\")"
   ]
  },
  {
   "cell_type": "code",
   "execution_count": null,
   "id": "103f0204",
   "metadata": {},
   "outputs": [],
   "source": [
    "print(\"정수 입력 :\")\n",
    "num1 = int(input())\n",
    "num2 = int(input())\n",
    "num3 = int(input())\n",
    "max_num = num1  # 우선 첫 번째 수를 가장 큰 수로 설정\n",
    "\n",
    "if num2 > max_num:  # 두 번째 수가 현재 가장 큰 수보다 크면\n",
    "    max_num = num2  # 두 번째 수를 가장 큰 수로 업데이트\n",
    "\n",
    "if num3 > max_num:  # 세 번째 수가 현재 가장 큰 수보다 크면\n",
    "    max_num = num3  # 세 번째 수를 가장 큰 수로 업데이트\n",
    "\n",
    "print(\"가장 큰 수는\", max_num, \"입니다.\")"
   ]
  },
  {
   "cell_type": "raw",
   "id": "9907251f",
   "metadata": {},
   "source": [
    "[문제 19] 임의의 수치를 입력받아 점수에 대한 학점을 출력하시오.(if-elif-else사용) \n",
    "  ▷ 100 ~ 90 : A\n",
    "  ▷  89 ~ 80 : B\n",
    "  ▷  79 ~ 70 : C\n",
    "  ▷  69 ~ 60 : D\n",
    "  ▷  59 ~    : F"
   ]
  },
  {
   "cell_type": "code",
   "execution_count": null,
   "id": "4d94dd06",
   "metadata": {},
   "outputs": [],
   "source": [
    "score = int(input(\"점수를 입력하세요:\"))\n",
    "\n",
    "if score >= 90 and score <= 100:\n",
    "    grade = \"A\"\n",
    "elif score >= 80 and score < 90:\n",
    "    grade = \"B\"\n",
    "elif score >= 70 and score < 80:\n",
    "    grade = \"C\"\n",
    "elif score >= 60 and score < 70:\n",
    "    grade = \"D\"\n",
    "else:\n",
    "    grade = \"F\"\n",
    "\n",
    "print(\"학점은\", grade, \"입니다.\")\n"
   ]
  },
  {
   "cell_type": "code",
   "execution_count": null,
   "id": "daebd9c7",
   "metadata": {},
   "outputs": [],
   "source": [
    "score = int(input(\"점수를 입력하세요:\"))\n",
    "\n",
    "if score >= 90 and score <= 100:\n",
    "    grade = \"A\"\n",
    "elif score >= 80 and score <= 89:\n",
    "    grade = \"B\"\n",
    "elif score >= 70 and score <= 79:\n",
    "    grade = \"C\"\n",
    "elif score >= 60 and score <= 69:\n",
    "    grade = \"D\"\n",
    "else:\n",
    "    grade = \"F\"\n",
    "\n",
    "print(\"학점:\", grade)"
   ]
  },
  {
   "cell_type": "code",
   "execution_count": null,
   "id": "8d018058",
   "metadata": {},
   "outputs": [],
   "source": [
    "print(\"1.수치입력:\")\n",
    "score = int(input())\n",
    "\n",
    "if score >= 90 and score <= 100:\n",
    "    grade = \"A\"\n",
    "elif score >= 80 and score <= 89:\n",
    "    grade = \"B\"\n",
    "elif score >= 70 and score <= 79:\n",
    "    grade = \"C\"\n",
    "elif score >= 60 and score <= 69:\n",
    "    grade = \"D\"\n",
    "else:\n",
    "    grade = \"F\"\n",
    "\n",
    "print(\"학점:\", grade)"
   ]
  },
  {
   "cell_type": "raw",
   "id": "832b1821",
   "metadata": {},
   "source": [
    "[참조 5] 반복문 – for, while 문\n",
    "\n",
    "1. (for)\n",
    "for [변수] in [반복횟수] :\n",
    "   [실행문]\n",
    "   \n",
    "2. (while)\n",
    "[변수 초기화]\n",
    "while [조건] :\n",
    "    [실행문]"
   ]
  },
  {
   "cell_type": "raw",
   "id": "3daa0082",
   "metadata": {},
   "source": [
    "[문제 20] 자신의 성명을 10회 반복하여 출력하시오.(for / while 사용)"
   ]
  },
  {
   "cell_type": "code",
   "execution_count": null,
   "id": "2b650787",
   "metadata": {},
   "outputs": [],
   "source": [
    "# for문 사용\n",
    "name = \"김지민\"\n",
    "for _ in range(10):\n",
    "    print(name)\n",
    "#_ 변수는 반복 변수로 사용되는 것이 일반적인 관례입니다. 위 코드에서 _ 변수는 range(10)의 반복 횟수를 나타내는 역할을 합니다.\n",
    "\n",
    "#실제로 _ 변수의 값은 반복 횟수를 나타내는 숫자가 할당되지만, 코드의 의도상 _ 변수의 값을 사용하지 않기 때문에 일반적으로 \n",
    "#관례적으로 _를 사용합니다. 따라서 _ 변수의 값에는 실제로 관심이 없으며, 반복문의 반복 횟수를 나타내는 역할만 합니다.\n",
    "\n",
    "#코드를 실행할 때 _ 변수 대신 다른 변수 이름을 사용해도 결과는 동일하게 출력될 것입니다. _ 변수는 단순히 관례적인 표기법으로, \n",
    "#해당 반복 변수의 값에 관심이 없음을 나타내기 위해 사용됩니다."
   ]
  },
  {
   "cell_type": "code",
   "execution_count": null,
   "id": "9849e5d6",
   "metadata": {},
   "outputs": [],
   "source": [
    "# while문 사용\n",
    "name = \"김지민\"\n",
    "count = 0\n",
    "\n",
    "while count < 10:\n",
    "    print(name)\n",
    "    count += 1"
   ]
  },
  {
   "cell_type": "raw",
   "id": "d0180c85",
   "metadata": {},
   "source": [
    "[문제 21] 1에서 10까지의 수치를 출력하는 프로그램을 작성하시오.(for / while 사용)\n",
    "          ※ for 변수 in range(시작값, 최종값, 증가값) //증가값이 1이 경우에는 생략가능"
   ]
  },
  {
   "cell_type": "code",
   "execution_count": null,
   "id": "4aa8a272",
   "metadata": {},
   "outputs": [],
   "source": [
    "# for문 사용\n",
    "for num in range(1, 11):\n",
    "    print(num)\n",
    "\n",
    "#파이썬의 range() 함수는 시작(start) 값부터 끝(stop) 값의 이전 값까지의 범위를 생성합니다. \n",
    "#따라서 range(1, 11)은 1부터 10까지의 수치를 생성하게 됩니다.\n",
    "\n",
    "#range(start, stop)에서 start는 범위의 시작 값을 나타내며, stop은 범위의 끝 값을 나타냅니다.\n",
    "#시작 값부터 끝 값의 이전 값까지가 포함되는 것이 아니라, 이전 값 직전까지의 범위가 생성되는 특성 때문에 최종값이 11이 아니라 10이 됩니다.\n",
    "\n",
    "#따라서 range(1, 11)은 1부터 10까지의 수치를 생성하므로, 위 코드에서 for 문을 사용하여 숫자 1부터 10까지 출력하는 것이 올바릅니다."
   ]
  },
  {
   "cell_type": "code",
   "execution_count": null,
   "id": "3a24c877",
   "metadata": {},
   "outputs": [],
   "source": [
    "# while문 사용\n",
    "num = 1\n",
    "\n",
    "while num <= 10:\n",
    "    print(num)\n",
    "    num += 1"
   ]
  },
  {
   "cell_type": "raw",
   "id": "1d348b0c",
   "metadata": {},
   "source": [
    "[문제 22] 수치 1에서 10까지의 합을 구하는 프로그램을 작성하시오.(for / while 사용)"
   ]
  },
  {
   "cell_type": "code",
   "execution_count": null,
   "id": "7b43664e",
   "metadata": {},
   "outputs": [],
   "source": [
    "# for 요소 in 시퀀스:\n",
    "\n",
    "# 반복 작업 수행\n",
    "# 시퀀스(sequence)는 파이썬에서 여러 개의 값으로 이루어진 순서 있는 데이터의 형태를 말합니다. \n",
    "# 시퀀스는 일련의 항목들이 순서대로 나열되어 있으며, 각 항목은 인덱스를 통해 접근할 수 있습니다.\n",
    "# 파이썬에서 내장된 시퀀스 타입으로는 리스트(list), 튜플(tuple), 문자열(string)이 있습니다. \n",
    "# 이들 시퀀스 타입은 여러 개의 값으로 구성되어 있으며, 각 값은 위치에 따라 구분됩니다.\n",
    "# 시퀀스는 다음과 같은 특징을 가지고 있습니다:\n",
    "# 순서가 있음: 시퀀스의 각 항목은 정해진 순서대로 나열되어 있습니다.\n",
    "# 인덱싱 가능: 각 항목은 0부터 시작하는 인덱스를 사용하여 접근할 수 있습니다.\n",
    "# 슬라이싱 가능: 시퀀스는 부분적인 범위를 선택하여 추출할 수 있습니다.\n",
    "# 반복 가능: for 문을 사용하여 시퀀스의 각 항목을 반복할 수 있습니다.\n",
    "# 변경 가능성: 리스트와 바이트 배열과 같은 몇 가지 시퀀스 타입은 값을 변경할 수 있습니다. \n",
    "# 하지만 문자열과 튜플과 같은 다른 시퀀스 타입은 변경이 불가능합니다.\n",
    "# 시퀀스는 파이썬에서 많이 사용되는 데이터 타입 중 하나이며, 데이터를 저장하고 처리하는 다양한 작업에서 활용됩니다.\n",
    "\n",
    "# 위 구조에서 요소는 시퀀스의 각 요소를 차례대로 할당받는 반복 변수입니다. 시퀀스는 반복할 대상인 시퀀스 객체입니다.\n",
    "# for 문은 시퀀스의 각 요소를 순회하면서 들여쓴 블록 내의 코드를 실행합니다.\n",
    "# for 문은 반복 횟수가 정해져 있는 경우, 예를 들어 시퀀스의 길이에 따라 반복을 수행하거나 range() 함수와 함께 사용되는 경우에 \n",
    "# 주로 활용됩니다. 반복 작업이 완료되면 for 문은 종료됩니다.\n",
    "\n",
    "# for num in 시퀀스\n",
    "\n",
    "# num은 for 문에서 사용되는 반복 변수의 이름입니다. for 문에서 반복할 시퀀스의 각 요소가 순차적으로 num 변수에 할당됩니다.\n",
    "# num은 임의의 변수 이름으로 선택된 것이며, 실제로 for 문에서 사용되는 변수의 이름은 개발자가 원하는 대로 지정할 수 있습니다.\n",
    "# num은 \"number\"의 줄임말로, 주로 숫자와 관련된 반복 작업에서 사용되는 변수 이름으로 자주 선택됩니다. 하지만 실제로 num이 아니라 \n",
    "# 다른 이름을 사용해도 상관없습니다.\n",
    "# num은 현재 순회 중인 시퀀스의 요소를 나타내는 변수입니다. num 변수는 각 순회마다 시퀀스의 요소에 \n",
    "# 대한 참조를 받아 사용할 수 있습니다. 이렇게 반복 변수를 사용하여 반복 작업을 수행하면서 요소에 접근하고 조작할 수 있습니다."
   ]
  },
  {
   "cell_type": "code",
   "execution_count": null,
   "id": "a64b0562",
   "metadata": {},
   "outputs": [],
   "source": [
    "# for문 사용\n",
    "total = 0\n",
    "\n",
    "for num in range(1, 11):\n",
    "    total += num # x += y 는 x = x + y 와 동등한 표현\n",
    "\n",
    "print(\"수치 1에서 10까지의 합:\", total)\n"
   ]
  },
  {
   "cell_type": "code",
   "execution_count": null,
   "id": "b8d23238",
   "metadata": {},
   "outputs": [],
   "source": [
    "# while문 사용\n",
    "total = 0\n",
    "num = 1\n",
    "\n",
    "while num <= 10:\n",
    "    total += num\n",
    "    num += 1\n",
    "\n",
    "print(\"수치 1에서 10까지의 합:\", total)\n"
   ]
  },
  {
   "cell_type": "code",
   "execution_count": null,
   "id": "60f6760d",
   "metadata": {},
   "outputs": [],
   "source": [
    "# 위 코드에서는 total 변수를 0으로 초기화하고, num 변수를 1로 초기화합니다. \n",
    "# while 문을 사용하여 num이 10 이하일 동안 반복합니다. 반복할 때마다 total에 num 값을 더하고, num을 1씩 증가시킵니다. \n",
    "# 이를 통해 1부터 10까지의 수치의 합이 total에 누적됩니다. 반복이 완료된 후 print() 함수를 사용하여 합을 출력합니다."
   ]
  },
  {
   "cell_type": "raw",
   "id": "fa811e03",
   "metadata": {},
   "source": [
    "[문제 23] 키보드로부터 수치 한개를 입력받아 1에서부터 입력받은 수치까지의 합을 구하는 프로그램을 작성하시오"
   ]
  },
  {
   "cell_type": "code",
   "execution_count": null,
   "id": "a660fdc4",
   "metadata": {},
   "outputs": [],
   "source": [
    "num = int(input(\"수치를 입력하세요: \"))\n",
    "total = 0\n",
    "\n",
    "for i in range(1, num + 1):\n",
    "    total += i\n",
    "\n",
    "print(\"1에서\", num, \"까지의 합:\", total)"
   ]
  },
  {
   "cell_type": "code",
   "execution_count": null,
   "id": "435787be",
   "metadata": {},
   "outputs": [],
   "source": [
    "num = int(input(\"수치를 입력하세요: \"))\n",
    "total = 0\n",
    "i = 1\n",
    "\n",
    "while i <= num:\n",
    "    total += i\n",
    "    i += 1\n",
    "\n",
    "print(\"1에서\", num, \"까지의 합:\", total)"
   ]
  },
  {
   "cell_type": "raw",
   "id": "37715aee",
   "metadata": {},
   "source": [
    "[문제 24] 수치 시작값과 끝값을 입력받아 합을 구하는 프로그램을 작성하시오.\n",
    "(예) 두개의 수치 7, 10인경우 : 7+8+9+10"
   ]
  },
  {
   "cell_type": "code",
   "execution_count": null,
   "id": "c8935dca",
   "metadata": {},
   "outputs": [],
   "source": [
    "num1 = int(input(\"수치 시작 값를 입력하세요: \"))\n",
    "num2 = int(input(\"수치 끝 값를 입력하세요: \"))\n",
    "total = 0\n",
    "\n",
    "for i in range(num1, num2 + 1):\n",
    "    total += i\n",
    "\n",
    "print(\"수치 시작값에서수치 끝값까지의 합:\", total)"
   ]
  },
  {
   "cell_type": "code",
   "execution_count": null,
   "id": "b503cea6",
   "metadata": {},
   "outputs": [],
   "source": [
    "print(\"Start 수치 입력:\")\n",
    "start = int(input())\n",
    "print(\"End 수치 입력:\")\n",
    "end = int(input())\n",
    "sum = 0\n",
    "for i in range(start, end +1,1):\n",
    "    sum = sum + i\n",
    "print(\"합 =\",sum)"
   ]
  },
  {
   "cell_type": "code",
   "execution_count": null,
   "id": "fa16e188",
   "metadata": {},
   "outputs": [],
   "source": [
    "start = int(input(\"시작 값을 입력하세요:\"))\n",
    "end = int(input(\"끝 값을 입력하세요:\"))\n",
    "\n",
    "total = 0\n",
    "num = start\n",
    "\n",
    "while num <= end:\n",
    "    total += num\n",
    "    num += 1\n",
    "\n",
    "print(start, \"에서\", end, \"까지의 합:\", total)"
   ]
  },
  {
   "cell_type": "code",
   "execution_count": null,
   "id": "8c692020",
   "metadata": {},
   "outputs": [],
   "source": [
    "print(\"Start 수치 입력:\")\n",
    "start = int(input())\n",
    "print(\"End 수치 입력:\")\n",
    "final = int(input())\n",
    "sum = 0\n",
    "for i in range(start, end +1,1):\n",
    "    if(i == final):\n",
    "        print(i, end=\"=\")\n",
    "    else:\n",
    "        print(i, end=\"+\")\n",
    "    sum = sum + i\n",
    "print(\"합=\",sum)   "
   ]
  },
  {
   "cell_type": "code",
   "execution_count": null,
   "id": "6e2a5823",
   "metadata": {},
   "outputs": [],
   "source": [
    "print(\"연산식 입력:\")\n",
    "exp = input()\n",
    "print(eval(exp))"
   ]
  },
  {
   "cell_type": "code",
   "execution_count": null,
   "id": "3a268188",
   "metadata": {},
   "outputs": [],
   "source": [
    "print(\"연산식입력\")\n",
    "exp = input()\n",
    "print(exp,\"=\",eval(exp))"
   ]
  },
  {
   "cell_type": "raw",
   "id": "12014487",
   "metadata": {},
   "source": [
    "[문제 25] 수치 2~9까지의 수치를 입력받아 수치에 해당하는 구구단을 출력하는 프로그램을 작성하시오.\n",
    "\n",
    "(입력상태)\t구구단 입력 : 4\n",
    "(출력상태)\n",
    "        4 × 1 = 4\n",
    "\t\t4 × 2 = 8\n",
    "\t\t4 × 3 = 12\n",
    "\t\t4 × 4 = 16\n",
    "\t\t4 × 5 = 20\n",
    "\t\t4 × 6 = 24\n",
    "\t\t4 × 7 = 28\n",
    "\t\t4 × 8 = 32\n",
    "\t\t4 × 9 = 36"
   ]
  },
  {
   "cell_type": "code",
   "execution_count": null,
   "id": "a8e7cc58",
   "metadata": {},
   "outputs": [],
   "source": [
    "num = int(input(\"구구단 입력: \"))\n",
    "\n",
    "for i in range(1, 10):\n",
    "    result = num * i\n",
    "    print(f\"{num} × {i} = {result}\") \n",
    "\n",
    "# f-string은 문자열 앞에 f 접두사를 붙여서 사용하며, 중괄호 {} 안에 변수나 표현식을 넣어주면 해당 부분이 \n",
    "# 변수 값이나 표현식의 결과로 치환됩니다."
   ]
  },
  {
   "cell_type": "code",
   "execution_count": null,
   "id": "684b954e",
   "metadata": {},
   "outputs": [],
   "source": [
    "print(\"입력 단:\")\n",
    "dan = int(input())\n",
    "\n",
    "for i in range(1,10,1):\n",
    "    print(dan,\"X\",i,\"=\",dan*i)"
   ]
  },
  {
   "cell_type": "code",
   "execution_count": null,
   "id": "9d60e7b5",
   "metadata": {},
   "outputs": [],
   "source": [
    "print(\"입력 단:\")\n",
    "dan = int(input())\n",
    "\n",
    "for i in range(1,10,1):\n",
    "    print(\"%d X %d = %2d\"%(dan,i,dan*i))"
   ]
  },
  {
   "cell_type": "code",
   "execution_count": null,
   "id": "4c2d0ab0",
   "metadata": {},
   "outputs": [],
   "source": [
    "name = \"Alice\"\n",
    "age = 25\n",
    "print(f\"My name is {name} and I'm {age} years old.\")"
   ]
  },
  {
   "cell_type": "code",
   "execution_count": null,
   "id": "b1c65104",
   "metadata": {},
   "outputs": [],
   "source": [
    "num = int(input(\"구구단 입력: \"))\n",
    "\n",
    "i = 1\n",
    "while i <= 9:\n",
    "    result = num * i\n",
    "    print(f\"{num} × {i} = {result}\")\n",
    "    i += 1"
   ]
  },
  {
   "cell_type": "raw",
   "id": "11e5c660",
   "metadata": {},
   "source": [
    "[문제 26] 구구단 전체를 출력하시오.\n",
    "\n",
    "[출력형태]\n",
    "2 X 1 = 2  3 X 1 = 3  --------------- 9 X 1 = 9\n",
    "2 X 2 = 4  3 X 2 = 6  --------------- 9 X 2 = 18\n",
    "  --------------------------------------------\n",
    "  --------------------------------------------\n",
    "2 X 9 = 18  3 X 9 = 27  --------------- 9 X 9 = 81"
   ]
  },
  {
   "cell_type": "code",
   "execution_count": null,
   "id": "e019dc42",
   "metadata": {},
   "outputs": [],
   "source": [
    "for i in range(2, 10):\n",
    "    print(f\"구구단 {i}단\")\n",
    "    print(\"------------\")\n",
    "    for j in range(1, 10):\n",
    "        result = i * j\n",
    "        print(f\"{i} × {j} = {result}\")\n",
    "    print()"
   ]
  },
  {
   "cell_type": "code",
   "execution_count": null,
   "id": "4d12f665",
   "metadata": {},
   "outputs": [],
   "source": [
    "i = 2\n",
    "while i <= 9:\n",
    "    print(f\"구구단 {i}단\")\n",
    "    print(\"------------\")\n",
    "    j = 1\n",
    "    while j <= 9:\n",
    "        result = i * j\n",
    "        print(f\"{i} × {j} = {result}\")\n",
    "        j += 1\n",
    "    print()\n",
    "    i += 1"
   ]
  },
  {
   "cell_type": "code",
   "execution_count": null,
   "id": "3064ecdd",
   "metadata": {},
   "outputs": [],
   "source": [
    "for i in range(2, 10):\n",
    "    print(f\"구구단 {i}단\")\n",
    "    print(\"------------\")\n",
    "    j = 1\n",
    "    while j <= 9:\n",
    "        result = i * j\n",
    "        print(f\"{i} × {j} = {result}\")\n",
    "        j += 1\n",
    "    print()"
   ]
  },
  {
   "cell_type": "code",
   "execution_count": null,
   "id": "7fdab645",
   "metadata": {},
   "outputs": [
    {
     "name": "stdout",
     "output_type": "stream",
     "text": [
      "구구단 출력\n",
      "2 X 1 = 2 3 X 1 = 3 4 X 1 = 4 5 X 1 = 5 6 X 1 = 6 7 X 1 = 7 8 X 1 = 8 9 X 1 = 9 9 X 1 =  9\n",
      "2 X 2 = 4 3 X 2 = 6 4 X 2 = 8 5 X 2 = 10 6 X 2 = 12 7 X 2 = 14 8 X 2 = 16 9 X 2 = 18 9 X 2 = 18\n",
      "2 X 3 = 6 3 X 3 = 9 4 X 3 = 12 5 X 3 = 15 6 X 3 = 18 7 X 3 = 21 8 X 3 = 24 9 X 3 = 27 9 X 3 = 27\n",
      "2 X 4 = 8 3 X 4 = 12 4 X 4 = 16 5 X 4 = 20 6 X 4 = 24 7 X 4 = 28 8 X 4 = 32 9 X 4 = 36 9 X 4 = 36\n",
      "2 X 5 = 10 3 X 5 = 15 4 X 5 = 20 5 X 5 = 25 6 X 5 = 30 7 X 5 = 35 8 X 5 = 40 9 X 5 = 45 9 X 5 = 45\n",
      "2 X 6 = 12 3 X 6 = 18 4 X 6 = 24 5 X 6 = 30 6 X 6 = 36 7 X 6 = 42 8 X 6 = 48 9 X 6 = 54 9 X 6 = 54\n",
      "2 X 7 = 14 3 X 7 = 21 4 X 7 = 28 5 X 7 = 35 6 X 7 = 42 7 X 7 = 49 8 X 7 = 56 9 X 7 = 63 9 X 7 = 63\n",
      "2 X 8 = 16 3 X 8 = 24 4 X 8 = 32 5 X 8 = 40 6 X 8 = 48 7 X 8 = 56 8 X 8 = 64 9 X 8 = 72 9 X 8 = 72\n",
      "2 X 9 = 18 3 X 9 = 27 4 X 9 = 36 5 X 9 = 45 6 X 9 = 54 7 X 9 = 63 8 X 9 = 72 9 X 9 = 81 9 X 9 = 81\n"
     ]
    }
   ],
   "source": [
    "print(\"구구단 출력\")\n",
    "\n",
    "for i in range(1,10,1):\n",
    "    for j in range(2,10,1):\n",
    "        print(j, \"X\",i,\"=\",j*i,end=\" \")\n",
    "    print(\"%d X %d = %2d\" % (j,i,j*i))\n",
    "    # print(\"%d X %d = %2d\" % (j,i,j*i), end=\" \")\n",
    "    # print()"
   ]
  },
  {
   "cell_type": "code",
   "execution_count": null,
   "id": "fe1bc1e9",
   "metadata": {},
   "outputs": [],
   "source": [
    "print(\"구구단 출력\")\n",
    "\n",
    "for i in range(1, 10):\n",
    "    for j in range(2, 10):\n",
    "        print(j, \"X\", i, \"=\", j * i, end=\" \")\n",
    "    print()"
   ]
  },
  {
   "cell_type": "raw",
   "id": "4921478c",
   "metadata": {},
   "source": [
    "[참조 6] 기타 제어문 – (반목문에서 사용) break, continue"
   ]
  },
  {
   "cell_type": "raw",
   "id": "19408e53",
   "metadata": {},
   "source": [
    "[문제 27] 다음 프로그램의 차이점을 살펴보세요.\n",
    "\n",
    "for i in range(1, 11, 1) :\n",
    "   print(i)\n",
    "\n",
    "for i in range(1, 11, 1) :\n",
    "   if i == 5 :\n",
    "      break\n",
    "   print(i)\n",
    "   \n",
    "for i in range(1, 11, 1) :\n",
    "   if i == 5 :\n",
    "      continue\n",
    "   print(i)"
   ]
  },
  {
   "cell_type": "code",
   "execution_count": null,
   "id": "5030350d",
   "metadata": {},
   "outputs": [],
   "source": [
    "for i in range(1, 11, 1) :\n",
    "   print(i)\n",
    "\n",
    "for i in range(1, 11, 1) :\n",
    "   if i == 5 :\n",
    "      break\n",
    "   print(i)\n",
    "   \n",
    "for i in range(1, 11, 1) :\n",
    "   if i == 5 :\n",
    "      continue\n",
    "   print(i)"
   ]
  },
  {
   "cell_type": "raw",
   "id": "b132196e",
   "metadata": {},
   "source": [
    "[참조 7 ] 랜덤함수(random) : 컴퓨터가 무작위 수치를 발생\n",
    "\n",
    "(사용 예) \n",
    "import random  #random 라이브러리를 호출하여 사용\n",
    "\n",
    "no = random.randint(1,3)  # 1~3중에 한개의 무작위 수치 발생\n",
    "no = random.sample(range(1, 10), 2) #1~9중에 2개의 무작위 수치 발생"
   ]
  },
  {
   "cell_type": "raw",
   "id": "b5fcf0f1",
   "metadata": {},
   "source": [
    "[문제 28] 주사위의 수치를 random을 사용하여 발생하세요."
   ]
  },
  {
   "cell_type": "code",
   "execution_count": null,
   "id": "04feecb8",
   "metadata": {},
   "outputs": [],
   "source": [
    "import random\n",
    "no = random.randint(1,6)\n",
    "print(no)"
   ]
  },
  {
   "cell_type": "raw",
   "id": "80a2ea75",
   "metadata": {},
   "source": [
    "[문제 29] 주사위 수치를 random을 사용하여 50회 발생하세요..."
   ]
  },
  {
   "cell_type": "code",
   "execution_count": null,
   "id": "cd86ba34",
   "metadata": {},
   "outputs": [],
   "source": [
    "import random\n",
    "i = 1\n",
    "while i <= 50:\n",
    "    no = random.randint(1,6)\n",
    "    print(no)\n",
    "    i += 1"
   ]
  },
  {
   "cell_type": "code",
   "execution_count": null,
   "id": "c8c5f878",
   "metadata": {},
   "outputs": [],
   "source": [
    "import random\n",
    "\n",
    "for i in range(50):\n",
    "    no = random.randint(1,6)\n",
    "    print(no)"
   ]
  },
  {
   "cell_type": "raw",
   "id": "43a5e071",
   "metadata": {},
   "source": [
    "[문제 30] 1~20까지의 수치중에 무작위로 수치 3개를 발생하세요.."
   ]
  },
  {
   "cell_type": "code",
   "execution_count": null,
   "id": "b18641fc",
   "metadata": {},
   "outputs": [
    {
     "name": "stdout",
     "output_type": "stream",
     "text": [
      "[9, 14, 1]\n"
     ]
    }
   ],
   "source": [
    "import random\n",
    "no = random.sample(range(1,21),3)\n",
    "print(no)"
   ]
  },
  {
   "cell_type": "raw",
   "id": "ef016021",
   "metadata": {},
   "source": [
    "[문제 31] 로또발생기 프로그램을 작성하세요.."
   ]
  },
  {
   "cell_type": "code",
   "execution_count": null,
   "id": "e3cdea34",
   "metadata": {},
   "outputs": [
    {
     "name": "stdout",
     "output_type": "stream",
     "text": [
      "[12, 1, 15, 7, 34, 41]\n"
     ]
    }
   ],
   "source": [
    "import random\n",
    "no = random.sample(range(1,46),6)\n",
    "print(no)"
   ]
  },
  {
   "cell_type": "raw",
   "id": "b1cd94c2",
   "metadata": {},
   "source": [
    "[문제 32] 홀/짝 게임 프로그램 작성 \n",
    "\n",
    "다음 조건에 따라 프로그램을 작성하시오.\n",
    "  ▷ 상대쪽(컴퓨터)에서 랜덤(0:짝, 1:홀)을 발생한다.\n",
    "  ▷ 사용자는 0:짝, 1:홀을 선택한다. \n",
    "  ▷ 10회를 실시하여 승률을 출력한다."
   ]
  },
  {
   "cell_type": "code",
   "execution_count": null,
   "id": "ccd0e15e",
   "metadata": {},
   "outputs": [
    {
     "name": "stdout",
     "output_type": "stream",
     "text": [
      "홀수(1)짝수(2) =>패\n",
      "홀수(1)짝수(2) =>패\n",
      "홀수(1)짝수(2) =>패\n",
      "홀수(1)짝수(2) =>패\n",
      "홀수(1)짝수(2) =>패\n",
      "홀수(1)짝수(2) =>패\n",
      "홀수(1)짝수(2) =>패\n",
      "홀수(1)짝수(2) =>패\n",
      "홀수(1)짝수(2) =>패\n",
      "승률 :  0 %\n"
     ]
    }
   ],
   "source": [
    "import random\n",
    "cnt = 0\n",
    "for i in range(1,10):\n",
    "    com = random.randint(1,2)\n",
    "    print(\"홀수(1)짝수(2) =>\", end=\"\")\n",
    "    user = int(input())\n",
    "    if (com == user):\n",
    "        print(\"승\")\n",
    "        cnt = cnt + 1\n",
    "    else:\n",
    "        print(\"패\")\n",
    "print(\"승률 : \", cnt*10, \"%\")"
   ]
  },
  {
   "cell_type": "raw",
   "id": "39ce3587",
   "metadata": {},
   "source": [
    "[문제 33] 숫자 찾기 게임 프로그램\n",
    "\n",
    "다음 조건에 따라 프로그램을 작성하시오.\n",
    "  ▷ 컴퓨터가 1에서 100까지 중 임의의 숫자를 생성한다.\n",
    "  ▷ 사용자가 추측하는 숫자를 입력하면 컴퓨터가 생성한 임의의 숫자보다 큰지, 작은지를 계속 비교해 준다.\n",
    "  ▷ 정답을 맞힐 때까지 계속하다가 맞히면 ‘정답입니다.’를 출력하시오.\n",
    "\n",
    "(랜덤수치 발생 예) 56 ← random.randint(1, 99)\n",
    "(출력 형태)\t\n",
    "        수치입력(1~100) : 30\n",
    "\t\t숫자가 작습니다.\n",
    "\t\t수치입력(1~100) : 50\n",
    "\t\t숫자가 작습니다.\n",
    "\t\t수치입력(1~100) : 70\n",
    "\t\t숫자가 큽니다.\n",
    "\t\t수치입력(1~100) : 56\n",
    "\t\t정답입니다. "
   ]
  },
  {
   "cell_type": "code",
   "execution_count": null,
   "id": "57f414da",
   "metadata": {},
   "outputs": [],
   "source": []
  }
 ],
 "metadata": {
  "kernelspec": {
   "display_name": "Python 3 (ipykernel)",
   "language": "python",
   "name": "python3"
  },
  "language_info": {
   "codemirror_mode": {
    "name": "ipython",
    "version": 3
   },
   "file_extension": ".py",
   "mimetype": "text/x-python",
   "name": "python",
   "nbconvert_exporter": "python",
   "pygments_lexer": "ipython3",
   "version": "3.11.3"
  }
 },
 "nbformat": 4,
 "nbformat_minor": 5
}
