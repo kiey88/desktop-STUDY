{
 "cells": [
  {
   "cell_type": "raw",
   "id": "875b5296",
   "metadata": {},
   "source": [
    "[문제 8] 다음 입력창에 수치를 입력하고 홀짝버튼을 누르면 그 결과를 Label에 출력하는 프로그램을 작성하시오."
   ]
  },
  {
   "cell_type": "code",
   "execution_count": null,
   "id": "2506d17d",
   "metadata": {},
   "outputs": [],
   "source": []
  },
  {
   "cell_type": "raw",
   "id": "846d9092",
   "metadata": {},
   "source": [
    "[문제 9] 다음 입력창에 계산식을 입력하고 계산결과 버튼을 누르면 그 결과를 출력하는 프로그램을 작성하시오."
   ]
  },
  {
   "cell_type": "code",
   "execution_count": null,
   "id": "45e8cabf",
   "metadata": {},
   "outputs": [],
   "source": []
  },
  {
   "cell_type": "raw",
   "id": "51132f87",
   "metadata": {},
   "source": [
    "[문제 10] 다음 조건에 따라 숫자 찾기 게임 프로그램을 작성하시오.\n",
    "\n",
    "[실행조건]\n",
    "  ▷ 컴퓨터가 1에서 100까지 중 임의의 숫자를 생성한다.\n",
    "  ▷ 사용자가 추측하는 숫자를 입력하면 컴퓨터가 생성한 임의의 숫자보다 큰지, 작은지를 계속 비교해 준다.\n",
    "  ▷ 정답을 맞힐 때까지 계속한다."
   ]
  },
  {
   "cell_type": "code",
   "execution_count": null,
   "id": "46d6f88d",
   "metadata": {},
   "outputs": [],
   "source": []
  }
 ],
 "metadata": {
  "kernelspec": {
   "display_name": "Python 3 (ipykernel)",
   "language": "python",
   "name": "python3"
  },
  "language_info": {
   "codemirror_mode": {
    "name": "ipython",
    "version": 3
   },
   "file_extension": ".py",
   "mimetype": "text/x-python",
   "name": "python",
   "nbconvert_exporter": "python",
   "pygments_lexer": "ipython3",
   "version": "3.10.6"
  }
 },
 "nbformat": 4,
 "nbformat_minor": 5
}
